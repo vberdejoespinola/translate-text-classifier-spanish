{
 "cells": [
  {
   "cell_type": "code",
   "execution_count": null,
   "id": "71166715",
   "metadata": {},
   "outputs": [],
   "source": [
    "from IPython.display import display, HTML\n",
    "display(HTML(\"<style>.container { width:100% !important; }</style>\"))\n",
    "\n",
    "import mpu\n",
    "import torch\n",
    "import transformers\n",
    "import platform\n",
    "\n",
    "print(torch.__version__) # checking pytorch version 2.0 or more\n",
    "print(platform.mac_ver()) # checking pytorch version for mac - should be arm64\n",
    "print(transformers.__version__) # checking transformers version\n",
    "print(torch.backends.mps.is_built())  # checking if mps is available     \n",
    "device = torch.device('mps') # device = torch.device(\"cuda\" if torch.cuda.is_available() else \"cpu\")\n",
    "print(device)"
   ]
  },
  {
   "cell_type": "code",
   "execution_count": null,
   "id": "038cabe2",
   "metadata": {},
   "outputs": [],
   "source": [
    "# read raw corpus\n",
    "\n",
    "corpus_raw = mpu.io.read('../data/corpus_raw.pickle')\n",
    "\n",
    "pos = corpus_raw[0:62]\n",
    "neg = corpus_raw[62:5020]\n",
    "# neg = neg[:92]\n",
    "\n",
    "x = pos + neg\n",
    "y = [1] * len(pos) + [0] * len(neg)\n",
    "\n",
    "print(len(y), len(x), len(neg), len(pos))"
   ]
  },
  {
   "cell_type": "code",
   "execution_count": null,
   "id": "933fc695",
   "metadata": {},
   "outputs": [],
   "source": [
    "from sklearn.model_selection import train_test_split\n",
    "\n",
    "x_train, x_test, y_train, y_test = train_test_split(x, y, test_size=0.20, random_state=42)\n",
    "\n",
    "[[y_train.count(item), item] for item in set(y_train)]"
   ]
  },
  {
   "cell_type": "code",
   "execution_count": null,
   "id": "e5a3a213",
   "metadata": {},
   "outputs": [],
   "source": [
    "# resample data\n",
    "\n",
    "from imblearn.over_sampling import RandomOverSampler\n",
    "from imblearn.over_sampling import ADASYN\n",
    "\n",
    "ros = RandomOverSampler(random_state=42, sampling_strategy='not majority')\n",
    "ada = ADASYN(random_state=42)\n",
    "\n",
    "x_train_ros, y_train_ros = ros.fit_resample(x_train, y_train)\n",
    "x_test_ros, y_test_ros = ros.fit_resample(x_test, y_test)"
   ]
  },
  {
   "cell_type": "code",
   "execution_count": null,
   "id": "93642c78",
   "metadata": {},
   "outputs": [],
   "source": [
    "from collections import Counter\n",
    "\n",
    "counter = Counter()\n",
    "\n",
    "for bin_class in y_test_ros:\n",
    "    counter[bin_class] +=1\n",
    "    \n",
    "counter"
   ]
  },
  {
   "cell_type": "code",
   "execution_count": null,
   "id": "68457502",
   "metadata": {},
   "outputs": [],
   "source": [
    "from datasets.dataset_dict import DatasetDict\n",
    "from datasets import Dataset\n",
    "\n",
    "# https://huggingface.co/docs/datasets/en/access\n",
    "\n",
    "d = {'train': Dataset.from_dict({'text':x_train_ros,'label':y_train_ros}),\n",
    "     'test': Dataset.from_dict({'text':x_test_ros, 'label':y_test_ros})\n",
    "     }\n",
    "\n",
    "d = DatasetDict(d)\n",
    "\n",
    "d"
   ]
  },
  {
   "cell_type": "code",
   "execution_count": null,
   "id": "9746b7b8",
   "metadata": {},
   "outputs": [],
   "source": [
    "import torch\n",
    "from transformers import AutoTokenizer\n",
    "\n",
    "tokenizer = AutoTokenizer.from_pretrained('xlm-roberta-base')\n",
    "\n",
    "# batching\n",
    "\n",
    "def tokenize_text(examples):\n",
    "    m = tokenizer(examples['text'], truncation=True, max_length=512, padding=True, return_tensors='pt').to(device)\n",
    "    return m\n",
    "\n",
    "d_tokenized = d.map(tokenize_text, batched=True)\n",
    "\n",
    "print(d_tokenized)"
   ]
  },
  {
   "cell_type": "code",
   "execution_count": null,
   "id": "4eafd7b6",
   "metadata": {},
   "outputs": [],
   "source": [
    "mpu.io.write('../data/d_tokenized_ros.pickle', d_tokenized)"
   ]
  },
  {
   "cell_type": "code",
   "execution_count": null,
   "id": "068906b9",
   "metadata": {},
   "outputs": [],
   "source": [
    "# class imbalance\n",
    "\n",
    "class_weights = [(1 - (len(neg) / len(x))), (1 - (len(pos) / len(x)))]\n",
    "class_weights = torch.Tensor(class_weights).to(device)\n",
    "class_weights\n",
    "\n",
    "mpu.io.write('../data/class_weights.pickle', class_weights)"
   ]
  }
 ],
 "metadata": {
  "kernelspec": {
   "display_name": "venv",
   "language": "python",
   "name": "venv"
  },
  "language_info": {
   "codemirror_mode": {
    "name": "ipython",
    "version": 3
   },
   "file_extension": ".py",
   "mimetype": "text/x-python",
   "name": "python",
   "nbconvert_exporter": "python",
   "pygments_lexer": "ipython3",
   "version": "3.11.3"
  }
 },
 "nbformat": 4,
 "nbformat_minor": 5
}
