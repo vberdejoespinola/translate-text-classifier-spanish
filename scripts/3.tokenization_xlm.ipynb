{
 "cells": [
  {
   "cell_type": "code",
   "execution_count": 1,
   "id": "71166715",
   "metadata": {},
   "outputs": [
    {
     "name": "stdout",
     "output_type": "stream",
     "text": [
      "2.5.0\n",
      "('14.7', ('', '', ''), 'arm64')\n",
      "4.45.2\n",
      "True\n",
      "mps\n"
     ]
    }
   ],
   "source": [
    "import mpu\n",
    "import torch\n",
    "import transformers\n",
    "import platform\n",
    "\n",
    "print(torch.__version__) # checking pytorch version 2.0 or more\n",
    "print(platform.mac_ver()) # checking pytorch version for mac - should be arm64\n",
    "print(transformers.__version__) # checking transformers version\n",
    "print(torch.backends.mps.is_built())  # checking if mps is available     \n",
    "device = torch.device('mps') # device = torch.device(\"cuda\" if torch.cuda.is_available() else \"cpu\")\n",
    "print(device)"
   ]
  },
  {
   "cell_type": "code",
   "execution_count": 2,
   "id": "038cabe2",
   "metadata": {},
   "outputs": [
    {
     "name": "stdout",
     "output_type": "stream",
     "text": [
      "5019 5019 4957 62\n"
     ]
    }
   ],
   "source": [
    "# read raw corpus\n",
    "\n",
    "corpus_raw = mpu.io.read('../data/corpus_raw.pickle')\n",
    "\n",
    "pos = corpus_raw[0:62]\n",
    "neg = corpus_raw[62:5020]\n",
    "# neg = neg[:92]\n",
    "\n",
    "x = pos + neg\n",
    "y = [1] * len(pos) + [0] * len(neg)\n",
    "\n",
    "print(len(y), len(x), len(neg), len(pos))"
   ]
  },
  {
   "cell_type": "code",
   "execution_count": 8,
   "id": "933fc695",
   "metadata": {},
   "outputs": [
    {
     "data": {
      "text/plain": [
       "[[3966, 0], [49, 1]]"
      ]
     },
     "execution_count": 8,
     "metadata": {},
     "output_type": "execute_result"
    }
   ],
   "source": [
    "from sklearn.model_selection import train_test_split\n",
    "\n",
    "x_train, x_test, y_train, y_test = train_test_split(x, y, test_size=0.20, random_state=42)\n",
    "\n",
    "[[y_train.count(item), item] for item in set(y_train)]"
   ]
  },
  {
   "cell_type": "code",
   "execution_count": 9,
   "id": "e5a3a213",
   "metadata": {},
   "outputs": [
    {
     "ename": "ModuleNotFoundError",
     "evalue": "No module named 'imblearn'",
     "output_type": "error",
     "traceback": [
      "\u001b[0;31m---------------------------------------------------------------------------\u001b[0m",
      "\u001b[0;31mModuleNotFoundError\u001b[0m                       Traceback (most recent call last)",
      "Cell \u001b[0;32mIn[9], line 3\u001b[0m\n\u001b[1;32m      1\u001b[0m \u001b[38;5;66;03m# resample data\u001b[39;00m\n\u001b[0;32m----> 3\u001b[0m \u001b[38;5;28;01mfrom\u001b[39;00m \u001b[38;5;21;01mimblearn\u001b[39;00m\u001b[38;5;21;01m.\u001b[39;00m\u001b[38;5;21;01mover_sampling\u001b[39;00m \u001b[38;5;28;01mimport\u001b[39;00m RandomOverSampler\n\u001b[1;32m      4\u001b[0m \u001b[38;5;28;01mfrom\u001b[39;00m \u001b[38;5;21;01mimblearn\u001b[39;00m\u001b[38;5;21;01m.\u001b[39;00m\u001b[38;5;21;01mover_sampling\u001b[39;00m \u001b[38;5;28;01mimport\u001b[39;00m ADASYN\n\u001b[1;32m      6\u001b[0m ros \u001b[38;5;241m=\u001b[39m RandomOverSampler(random_state\u001b[38;5;241m=\u001b[39m\u001b[38;5;241m42\u001b[39m, sampling_strategy\u001b[38;5;241m=\u001b[39m\u001b[38;5;124m'\u001b[39m\u001b[38;5;124mnot majority\u001b[39m\u001b[38;5;124m'\u001b[39m)\n",
      "\u001b[0;31mModuleNotFoundError\u001b[0m: No module named 'imblearn'"
     ]
    }
   ],
   "source": [
    "# resample data\n",
    "\n",
    "from imblearn.over_sampling import RandomOverSampler\n",
    "from imblearn.over_sampling import ADASYN\n",
    "\n",
    "ros = RandomOverSampler(random_state=42, sampling_strategy='not majority')\n",
    "ada = ADASYN(random_state=42)\n",
    "\n",
    "x_train_ros, y_train_ros = ros.fit_resample(x_train, y_train)\n",
    "x_test_ros, y_test_ros = ros.fit_resample(x_test, y_test)"
   ]
  },
  {
   "cell_type": "code",
   "execution_count": null,
   "id": "93642c78",
   "metadata": {},
   "outputs": [],
   "source": [
    "from collections import Counter\n",
    "\n",
    "counter = Counter()\n",
    "\n",
    "for bin_class in y_test_ros:\n",
    "    counter[bin_class] +=1\n",
    "    \n",
    "counter"
   ]
  },
  {
   "cell_type": "code",
   "execution_count": null,
   "id": "68457502",
   "metadata": {},
   "outputs": [],
   "source": [
    "from datasets.dataset_dict import DatasetDict\n",
    "from datasets import Dataset\n",
    "\n",
    "# https://huggingface.co/docs/datasets/en/access\n",
    "\n",
    "d = {'train': Dataset.from_dict({'text':x_train_ros,'label':y_train_ros}),\n",
    "     'test': Dataset.from_dict({'text':x_test_ros, 'label':y_test_ros})\n",
    "     }\n",
    "\n",
    "d = DatasetDict(d)\n",
    "\n",
    "d"
   ]
  },
  {
   "cell_type": "code",
   "execution_count": null,
   "id": "9746b7b8",
   "metadata": {},
   "outputs": [],
   "source": [
    "import torch\n",
    "from transformers import AutoTokenizer\n",
    "\n",
    "tokenizer = AutoTokenizer.from_pretrained('xlm-roberta-base')\n",
    "\n",
    "# batching\n",
    "\n",
    "def tokenize_text(examples):\n",
    "    m = tokenizer(examples['text'], truncation=True, max_length=512, padding=True, return_tensors='pt').to(device)\n",
    "    return m\n",
    "\n",
    "d_tokenized = d.map(tokenize_text, batched=True)\n",
    "\n",
    "print(d_tokenized)"
   ]
  },
  {
   "cell_type": "code",
   "execution_count": null,
   "id": "4eafd7b6",
   "metadata": {},
   "outputs": [],
   "source": [
    "mpu.io.write('../data/d_tokenized_ros.pickle', d_tokenized)"
   ]
  },
  {
   "cell_type": "code",
   "execution_count": null,
   "id": "068906b9",
   "metadata": {},
   "outputs": [],
   "source": [
    "# class imbalance\n",
    "\n",
    "class_weights = [(1 - (len(neg) / len(x))), (1 - (len(pos) / len(x)))]\n",
    "class_weights = torch.Tensor(class_weights).to(device)\n",
    "class_weights\n",
    "\n",
    "mpu.io.write('../data/class_weights.pickle', class_weights)"
   ]
  }
 ],
 "metadata": {
  "kernelspec": {
   "display_name": ".env",
   "language": "python",
   "name": "python3"
  },
  "language_info": {
   "codemirror_mode": {
    "name": "ipython",
    "version": 3
   },
   "file_extension": ".py",
   "mimetype": "text/x-python",
   "name": "python",
   "nbconvert_exporter": "python",
   "pygments_lexer": "ipython3",
   "version": "3.11.3"
  }
 },
 "nbformat": 4,
 "nbformat_minor": 5
}
