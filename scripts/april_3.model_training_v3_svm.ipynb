{
 "cells": [
  {
   "cell_type": "code",
   "execution_count": null,
   "metadata": {},
   "outputs": [],
   "source": [
    "# Model training of text classiffiers using logreg, svm, mlp \n",
    "# Violeta Berdejo-Espinola, Akos Hajas, Nan Ye\n",
    "# November 2024"
   ]
  },
  {
   "cell_type": "markdown",
   "metadata": {},
   "source": [
    "# read data"
   ]
  },
  {
   "cell_type": "code",
   "execution_count": 1,
   "metadata": {},
   "outputs": [],
   "source": [
    "import mpu\n",
    "\n",
    "# x data\n",
    "x_raw = mpu.io.read('../data/v3/corpus_raw.pickle')\n",
    "x = mpu.io.read('../data/v3/corpus_clean.pickle')\n",
    "\n",
    "# pos, negs\n",
    "pos = mpu.io.read('../data/v3/pos.pickle')\n",
    "neg = mpu.io.read('../data/v3/neg.pickle')\n",
    "\n",
    "# y \n",
    "\n",
    "y = mpu.io.read('../data/v3/y.pickle')"
   ]
  },
  {
   "cell_type": "code",
   "execution_count": 2,
   "metadata": {},
   "outputs": [
    {
     "data": {
      "text/plain": [
       "(['discriminación hez puma puma concolor jaguar panthera onco identificación ácido biliar técnica monitoreo carnívoro silvestr frecuente uso hez fuente información estudio registro fauna aquel ser gran utilidad grande carnívoro ser difícil ver embargo identificación específico siempre correcto especialmente especie simpátrica caso puma jaguar altitud intermedio parque nacional amborar bolivia caso estudio resolver problema haber utilizar simple técnica laboratorio cromatografía capa fino tlc sigla inglés tlc permitir identificación específico determinación cromatográfico ácido biliar intensidad color presencia ausencio ácido biliar hez varíar especie trabajo haber comparar patrón ácido biliar muestra obtenido parque nacional amborar muestra testigo obtenido zoológico estación faunística resultado mostrar patrón ácido biliar puma compuesto ácido litocólico dehydrocólico deoxicólico quenodeoxicólico cólico glicocólico cuatro ácido identificado patrón ácido biliar jaguar compuesto ácido litocólico dehydrocólico deoxicólico cólico glicocólico tres ácido identificado encontrar colesterol muestra destacar utilidad técnica monitoreo faún ser barato simple',\n",
       "  'evidenciar control fotoperiódico crecimiento cuerno muflón objetivo presente estudio ser determinar efecto fotoperiodo regulación crecimiento cuerno muflón siete muflón ser dividir dos grupo grupo control condición fotoperiodo natural grupo tratado sometido fotoperiodo artificial constante día largo hora luz oscuridad mes grupo control apreciar marcado estacionalidad crecimiento cuerno circunferencia escrotal secreción testosterona perfil secreción testosterón mostrar correlación inverso crecimiento cuerno sugerir efecto inhibidor hormona crecimiento cuerno grupo tratado crecimiento cuerno mantener crecimiento sostenido otoño primero año disminuir largo segundo año secreción testosterón mostrar perfil secreción variable correlación individual crecimiento cuerno resultado indicar efecto estimulante crecimiento cuerno parte fotoperiodo día largo establecimiento refractariedad dicho estímulo mantener continuado tiempo',\n",
       "  'cambio partición flujo aguo chaco árido reemplazar bosque pastura vegetación cumplir rol importante regular flujo aguo ecosistema especial región árida semiárida mayor parte precipitación evapotranspiro trabajo explorar cómo reemplazo bosque seco nativo pastura orientado aumentar productividad ganadero afectar partición flujo aguo llanura chaco árido caracterizar distribución tamaño intensidad evento precipitación medir flujo intercepción directo escurrimiento superfcial drenaje profundo evaporación potencial parcela pareada bosque pastura san luis argentina pastura presentar menor intercepción directo evento precipitación mayor escurrimiento superfcial escurrimiento evento grande intenso mayor evaporación potencial nivel suelo día verano drenaje profundo resultar nulo ambos cobertura aunque bajo pastura encontrar desplazamiento vertical sal perfl profundidad luego cada evento precipitación pastura presentar distribución homogéneo humedad edáfca producto menor redistribución aguo canopeo superfcie terreno resultado sugerir establecimiento pastura sitio originalmente cubierto bosque reducir fracción precipitación potencialmente transpirable aumentar riesgo potencial erosión hídrico importancia flujo redistribución balance hídrico funcionamiento ecohidrológico sistema resaltar necesidad caracterizar dinámica agua escala parche paisaje llano'],\n",
       " ['Discriminación de heces de puma (puma concolor) y jaguar (panthera onca) por identificación de sus ácidos biliares: una técnica para el monitoreo de carnívoros silvestres Es frecuente el uso de las heces como fuente de información en los estudios de registro de fauna. Aquellas son de gran utilidad para los grandes carnívoros, ya que éstos son muy difíciles de ver. Sin embargo, la identificación específica no es siempre correcta, especialmente en especies simpátricas. Ese es el caso del puma y del jaguar en altitudes intermedias del Parque Nacional Amboró en Bolivia, nuestro caso de estudio. Para resolver este problema hemos utilizado una simple técnica de laboratorio, la cromatografía de capa fina (TLC por sus siglas en inglés). La TLC permite la identificación específica por determinación cromatográfica de ácidos biliares. La intensidad, el color y la presencia o ausencia de ácidos biliares en las heces varía entre especies. En este trabajo hemos comparado los patrones de ácidos biliares de muestras obtenidas en el parque nacional Amboró con muestras testigo obtenidas de zoológicos y estaciones faunísticas. El resultado muestra que el patrón de ácidos biliares del puma está compuesto por los ácidos litocólico, dehydrocólico, deoxicólico, quenodeoxicólico, cólico-glicocólico y cuatro ácidos no identificados. El patrón de ácidos biliares del jaguar está compuesto por los ácidos litocólico, dehydrocólico, deoxicólico, cólico, glicocólico y tres ácidos no identificados. Encontramos colesterol en todas las muestras. Se destaca la utilidad de esta técnica para monitoreos de fauna por ser barata y simple.',\n",
       "  'Evidencia de un control fotoperiódico en el crecimiento del cuerno del muflón (ovis orientalis musimon schreber, 1782) El objetivo del presente estudio era determinar el efecto del fotoperiodo en la regulación del crecimiento del cuerno en el muflón. Para ello, siete muflones fueron divididos en dos grupos: Grupo control (n=3), en condiciones de fotoperiodo natural; Grupo tratado (n=4), sometidos a un fotoperiodo artificial constante de días largos (15 horas de luz: 9 de oscuridad), durante 18 meses. En el grupo control se apreciaba una marcada estacionalidad, tanto en el crecimiento del cuerno como en la circunferencia escrotal y secreción de testosterona (P< 0,05). El perfil de secreción de la testosterona mostraba una correlación inversa con el crecimiento del cuerno (P< 0,05), sugiriendo un efecto inhibidor de esta hormona sobre el crecimiento del cuerno. En el grupo tratado, el crecimiento del cuerno mantenía un crecimiento sostenido durante el otoño del primer año, disminuyendo a lo largo del segundo año. La secreción de testosterona mostraba un perfil de secreción variable sin correlación individual con el crecimiento del cuerno. Los resultados indican un efecto estimulante del crecimiento del cuerno por parte del fotoperiodo de días largos, y el establecimiento de una refractariedad a dicho estímulo, cuando éste se mantiene continuado en el tiempo.',\n",
       "  'Cambios en la partición de flujos de agua en el chaco árido al reemplazar bosques por pasturas La vegetación cumple un rol muy importante regulando los flujos de agua de los ecosistemas, en especial en regiones áridas y semiáridas donde la mayor parte de la precipitación se evapotranspira. En este trabajo se exploró cómo el reemplazo de los bosques secos nativos por pasturas, orientado a aumentar la productividad ganadera, afecta la partición de flujos de agua en las llanuras del Chaco Árido. Se caracterizó la distribución del tamaño y la intensidad de eventos de precipitación, y se midieron los flujos de intercepción directa, escurrimiento superfcial, drenaje profundo y evaporación potencial en parcelas pareadas de bosques y pasturas en San Luis, Argentina. Las pasturas presentaron menor intercepción directa (0.35±0.13 vs. 1.51±0.50 mm/evento de precipitación), mayor escurrimiento superfcial (~28 vs. 0% de escurrimiento en eventos grandes e intensos) y mayor evaporación potencial a nivel del suelo (7.0±0.9 vs. 4.4±0.9 mm/día en el verano). El drenaje profundo resultó nulo en ambas coberturas, aunque bajo las pasturas se encontró un desplazamiento vertical de las sales del perfl hasta los 2 m de profundidad. Luego de cada evento de precipitación, las pasturas presentaron una distribución más homogénea de la humedad edáfca como producto de una menor redistribución de agua por el canopeo y la superfcie del terreno. Estos resultados sugieren que el establecimiento de pasturas en sitios originalmente cubiertos por bosques reduciría la fracción de la precipitación potencialmente transpirable y aumentaría el riesgo potencial de erosión hídrica. La importancia de los flujos de redistribución sobre el balance hídrico y el funcionamiento ecohidrológico del sistema resalta la necesidad de caracterizar la dinámica del agua a escala de parche en paisajes llanos.'],\n",
       " [0, 0, 0, 0, 0, 0, 0, 0, 0, 0, 0, 0, 0, 0, 0, 0, 0, 0, 0, 0])"
      ]
     },
     "execution_count": 2,
     "metadata": {},
     "output_type": "execute_result"
    }
   ],
   "source": [
    "x[:3], x_raw[:3], y[:20]"
   ]
  },
  {
   "cell_type": "code",
   "execution_count": 3,
   "metadata": {},
   "outputs": [
    {
     "data": {
      "text/plain": [
       "47.352851666248284"
      ]
     },
     "execution_count": 3,
     "metadata": {},
     "output_type": "execute_result"
    }
   ],
   "source": [
    "# calculate weights\n",
    "\n",
    "weight_for_class_0 = len(x) / (len(neg) * 2) \n",
    "weight_for_class_1 = len(x) / (len(pos) * 2) \n",
    "weight_for_class_0 +weight_for_class_1 "
   ]
  },
  {
   "cell_type": "markdown",
   "metadata": {},
   "source": [
    "# split data"
   ]
  },
  {
   "cell_type": "code",
   "execution_count": 4,
   "metadata": {},
   "outputs": [],
   "source": [
    "from sklearn.model_selection import train_test_split\n",
    "\n",
    "x_train, x_test, y_train, y_test = train_test_split(x, y, test_size=0.20, random_state=42, stratify=y)\n",
    "x_train_r, x_test_r, y_train_r, y_test_r = train_test_split(x_raw, y, test_size=0.20, random_state=42, stratify=y)"
   ]
  },
  {
   "cell_type": "code",
   "execution_count": null,
   "metadata": {},
   "outputs": [
    {
     "name": "stdout",
     "output_type": "stream",
     "text": [
      "Counter({0: 4375, 1: 47})\n"
     ]
    }
   ],
   "source": [
    "from collections import Counter\n",
    "\n",
    "counter = Counter()\n",
    "\n",
    "for i in y_test_r:\n",
    "    counter[i] +=1\n",
    "    \n",
    "print(counter)"
   ]
  },
  {
   "cell_type": "markdown",
   "metadata": {},
   "source": [
    "# instantiate feature extractors, embedding models, resamplers, models "
   ]
  },
  {
   "cell_type": "code",
   "execution_count": 9,
   "metadata": {},
   "outputs": [],
   "source": [
    "from sklearn.feature_extraction.text import TfidfVectorizer # uses one-dim array of strings ~ shape (n,)\n",
    "from sklearn.feature_extraction.text import CountVectorizer # returns arrays\n",
    "\n",
    "vect_cv = CountVectorizer()\n",
    "vect_tfidf = TfidfVectorizer()\n",
    "\n",
    "model_mpnet = 'paraphrase-multilingual-mpnet-base-v2'\n",
    "model_distill = 'distiluse-base-multilingual-cased-v1'\n",
    "\n",
    "from imblearn.under_sampling import RandomUnderSampler\n",
    "from imblearn.over_sampling import RandomOverSampler\n",
    "from imblearn.over_sampling import ADASYN \n",
    "\n",
    "rus = RandomUnderSampler(random_state=42, sampling_strategy=1)\n",
    "ros = RandomOverSampler(random_state=42, sampling_strategy='not majority')\n",
    "ada = ADASYN(random_state=42)\n",
    "\n",
    "from sklearn.linear_model import LogisticRegression\n",
    "from sklearn.svm import SVC\n",
    "from sklearn.neural_network import MLPClassifier\n",
    "\n",
    "logreg = LogisticRegression(solver='liblinear', random_state=42)\n",
    "logreg_weight = LogisticRegression(solver='liblinear', class_weight={0: weight_for_class_0, 1: weight_for_class_1}, random_state=42)\n",
    "svm = SVC(kernel='linear')\n",
    "svm_weight = SVC(kernel='linear', class_weight={0: weight_for_class_0, 1: weight_for_class_1}, probability=True)\n",
    "mlp = MLPClassifier(activation='logistic', batch_size=16, hidden_layer_sizes=(), learning_rate='constant',learning_rate_init=0.001, solver='adam', random_state=42)\n",
    "# mlp_t = MLPClassifier(activation='logistic', batch_size=16, hidden_layer_sizes=(5,), learning_rate='invscaling',learning_rate_init=1, solver='sgd', random_state=42, max_iter=400)"
   ]
  },
  {
   "cell_type": "markdown",
   "metadata": {},
   "source": [
    "# function to train eval models"
   ]
  },
  {
   "cell_type": "code",
   "execution_count": 6,
   "metadata": {},
   "outputs": [
    {
     "name": "stderr",
     "output_type": "stream",
     "text": [
      "/Users/uqvberde/Projects/classifier_spanish/.venv/lib/python3.11/site-packages/tqdm/auto.py:21: TqdmWarning: IProgress not found. Please update jupyter and ipywidgets. See https://ipywidgets.readthedocs.io/en/stable/user_install.html\n",
      "  from .autonotebook import tqdm as notebook_tqdm\n"
     ]
    }
   ],
   "source": [
    "from imblearn.pipeline import Pipeline\n",
    "from imblearn.pipeline import make_pipeline \n",
    "\n",
    "from embetter.text import SentenceEncoder\n",
    "\n",
    "from sklearn.model_selection import cross_val_predict\n",
    "from sklearn.model_selection import StratifiedKFold\n",
    "\n",
    "from sklearn.metrics import f1_score, precision_score, recall_score\n",
    "\n",
    "import pandas as pd"
   ]
  },
  {
   "cell_type": "code",
   "execution_count": null,
   "metadata": {},
   "outputs": [],
   "source": [
    "# TF TFIDF baseline and weighted\n",
    "\n",
    "def train_eval_tf_tfidf(x_train, y_train, x_test, y_test, text_length, kfold):\n",
    "    \n",
    "    def run_estimator(estimator, feature_extractor, balanced):\n",
    "        \n",
    "        pipeline = Pipeline([(\"vectorizer\", feature_extractor),\n",
    "                             (\"estimator\", estimator)\n",
    "                            ])\n",
    "    \n",
    "        y_train_pred_cv = cross_val_predict(pipeline, x_train, y_train, cv=StratifiedKFold(kfold), method='predict') # cross val splits the data and then applies the pipeline steps\n",
    "\n",
    "        pipeline.fit(x_train, y_train)\n",
    "        \n",
    "        y_train_pred = pipeline.predict(x_train)\n",
    "\n",
    "        y_test_pred = pipeline.predict(x_test)\n",
    "\n",
    "        return {\n",
    "            'Classifier': pipeline['estimator'],\n",
    "            'Feature_extraction': pipeline['vectorizer'],\n",
    "            'Weighting': 'Weighted' if balanced else 'None',\n",
    "            'CV': kfold,\n",
    "            'Text_length': text_length,\n",
    "            'F1_tr_cv': round(f1_score(y_train, y_train_pred_cv), 3),\n",
    "            'F1_tr': round(f1_score(y_train, y_train_pred), 3),\n",
    "            'F1_ts': round(f1_score(y_test, y_test_pred), 3),\n",
    "            'Precision_tr_cv': round(precision_score(y_train, y_train_pred_cv), 3),\n",
    "            'Precision_tr': round(precision_score(y_train, y_train_pred), 3),\n",
    "            'Precision_ts': round(precision_score(y_test, y_test_pred), 3),\n",
    "            'Recall_tr_cv': round(recall_score(y_train, y_train_pred_cv), 3),\n",
    "            'Recall_tr': round(recall_score(y_train, y_train_pred), 3),\n",
    "            'Recall_ts': round(recall_score(y_test, y_test_pred), 3)\n",
    "        }\n",
    "\n",
    "\n",
    "    all_scores = []\n",
    "    \n",
    "    for feature_extractor in [vect_cv, vect_tfidf]:\n",
    "        \n",
    "        for estimator in [logreg, svm]:\n",
    "            all_scores.append(run_estimator(estimator, feature_extractor, False))\n",
    "            \n",
    "        for estimator in [logreg_weight, svm_weight]: \n",
    "            all_scores.append(run_estimator(estimator, feature_extractor, True))\n",
    "\n",
    "    return all_scores"
   ]
  },
  {
   "cell_type": "code",
   "execution_count": 7,
   "metadata": {},
   "outputs": [],
   "source": [
    "# embeddings baseline and weighted\n",
    "\n",
    "def train_eval_embeddings(x_train, y_train, x_test, y_test, text_length, kfold):\n",
    "\n",
    "    def run_estimator(estimator, balanced):\n",
    "        \n",
    "        pipeline = make_pipeline(\n",
    "            SentenceEncoder(embedding_model),\n",
    "            estimator\n",
    "        )\n",
    "        \n",
    "        y_train_pred_cv = cross_val_predict(pipeline, x_train, y_train, cv=StratifiedKFold(kfold), method='predict')\n",
    "\n",
    "        pipeline.fit(x_train, y_train)\n",
    "        \n",
    "        y_train_pred = pipeline.predict(x_train)\n",
    "\n",
    "        y_test_pred = pipeline.predict(x_test)\n",
    "\n",
    "        return {\n",
    "            'Classifier': estimator,\n",
    "            'Feature_extraction': embedding_model,\n",
    "            'Weighting': 'Weighted' if balanced else None,\n",
    "            'CV': kfold,\n",
    "            'Text_length': text_length,\n",
    "            'F1_tr_cv': round(f1_score(y_train, y_train_pred_cv), 3),\n",
    "            'F1_tr': round(f1_score(y_train, y_train_pred), 3),\n",
    "            'F1_ts': round(f1_score(y_test, y_test_pred), 3),\n",
    "            'Precision_tr_cv': round(precision_score(y_train, y_train_pred_cv), 3),\n",
    "            'Precision_tr': round(precision_score(y_train, y_train_pred), 3),\n",
    "            'Precision_ts': round(precision_score(y_test, y_test_pred), 3),\n",
    "            'Recall_tr_cv': round(recall_score(y_train, y_train_pred_cv), 3),\n",
    "            'Recall_tr': round(recall_score(y_train, y_train_pred), 3),\n",
    "            'Recall_ts': round(recall_score(y_test, y_test_pred), 3)\n",
    "        }\n",
    "\n",
    "    all_scores = []\n",
    "    \n",
    "    for embedding_model in [model_distill]: #model_mpnet,]:\n",
    "        \n",
    "            # for estimator in [logreg, svm, mlp]:#, mlp_t]:\n",
    "            #     all_scores.append(run_estimator(estimator, False))\n",
    "                \n",
    "            for estimator in [logreg_weight, svm_weight]: \n",
    "                all_scores.append(run_estimator(estimator, True))\n",
    "\n",
    "    return all_scores"
   ]
  },
  {
   "cell_type": "code",
   "execution_count": null,
   "metadata": {},
   "outputs": [],
   "source": [
    "# TF TFIDF resampled\n",
    "\n",
    "def train_eval_tf_tfidf_resampled(x_train, y_train, x_test, y_test, text_length, kfold):\n",
    "    \n",
    "    all_scores = []\n",
    "    \n",
    "    for feature_extractor in [vect_cv, vect_tfidf]:\n",
    "        \n",
    "        for resampler in [rus, ros, ada]:\n",
    "        \n",
    "            for estimator in [logreg, svm, mlp]:\n",
    "        \n",
    "                pipeline = Pipeline([(\"vectorizer\", feature_extractor),\n",
    "                                    (\"resampler\", resampler),\n",
    "                                    (\"estimator\", estimator)\n",
    "                                    ])\n",
    "        \n",
    "                y_train_pred_cv = cross_val_predict(pipeline, x_train, y_train, cv=StratifiedKFold(kfold), method='predict')\n",
    "\n",
    "                pipeline.fit(x_train, y_train)\n",
    "                \n",
    "                y_train_pred = pipeline.predict(x_train)\n",
    "\n",
    "                y_test_pred = pipeline.predict(x_test)\n",
    "\n",
    "                scores = {\n",
    "                    'Classifier': pipeline['estimator'],\n",
    "                    'Feature_extraction': pipeline['vectorizer'],\n",
    "                    'Weighting': pipeline['resampler'],\n",
    "                    'CV': kfold,\n",
    "                    'Text_length': text_length,\n",
    "                    'F1_tr_cv': round(f1_score(y_train, y_train_pred_cv), 3),\n",
    "                    'F1_tr': round(f1_score(y_train, y_train_pred), 3),\n",
    "                    'F1_ts': round(f1_score(y_test, y_test_pred), 3),\n",
    "                    'Precision_tr_cv': round(precision_score(y_train, y_train_pred_cv), 3),\n",
    "                    'Precision_tr': round(precision_score(y_train, y_train_pred), 3),\n",
    "                    'Precision_ts': round(precision_score(y_test, y_test_pred), 3),\n",
    "                    'Recall_tr_cv': round(recall_score(y_train, y_train_pred_cv), 3),\n",
    "                    'Recall_tr': round(recall_score(y_train, y_train_pred), 3),\n",
    "                    'Recall_ts': round(recall_score(y_test, y_test_pred), 3)    \n",
    "                }\n",
    "    \n",
    "                all_scores.append(scores)\n",
    "\n",
    "    return all_scores"
   ]
  },
  {
   "cell_type": "code",
   "execution_count": null,
   "metadata": {},
   "outputs": [],
   "source": [
    "# embeddings resampled\n",
    "\n",
    "def train_eval_embedding_resampled(x_train, y_train, x_test, y_test, text_length, kfold, embed_model):\n",
    "    \n",
    "    all_scores = []\n",
    "    \n",
    "    pipeline = make_pipeline(\n",
    "        SentenceEncoder(embed_model),\n",
    "        RandomOverSampler(random_state=42, sampling_strategy='not majority'),\n",
    "        MLPClassifier(activation='logistic', batch_size=16, hidden_layer_sizes=(), learning_rate='constant',learning_rate_init=0.001, solver='adam', random_state=42)\n",
    "    )\n",
    "                                \n",
    "    y_train_pred_cv = cross_val_predict(pipeline, x_train, y_train, cv=StratifiedKFold(kfold), method='predict')\n",
    "\n",
    "    pipeline.fit(x_train, y_train)\n",
    "    \n",
    "    y_train_pred = pipeline.predict(x_train)\n",
    "\n",
    "    y_test_pred = pipeline.predict(x_test)\n",
    "\n",
    "    scores = {\n",
    "        'Classifier': mlp,\n",
    "        'Feature_extraction': embed_model,\n",
    "        'Weighting': ros,\n",
    "        'CV': kfold,\n",
    "        'Text_length': text_length,\n",
    "        'F1_tr_cv': round(f1_score(y_train, y_train_pred_cv), 3),\n",
    "        'F1_tr': round(f1_score(y_train, y_train_pred), 3),\n",
    "        'F1_ts': round(f1_score(y_test, y_test_pred), 3),\n",
    "        'Precision_tr_cv': round(precision_score(y_train, y_train_pred_cv), 3),\n",
    "        'Precision_tr': round(precision_score(y_train, y_train_pred), 3),\n",
    "        'Precision_ts': round(precision_score(y_test, y_test_pred), 3),\n",
    "        'Recall_tr_cv': round(recall_score(y_train, y_train_pred_cv), 3),\n",
    "        'Recall_tr': round(recall_score(y_train, y_train_pred), 3),\n",
    "        'Recall_ts': round(recall_score(y_test, y_test_pred), 3)    \n",
    "    }\n",
    "\n",
    "    all_scores.append(scores)\n",
    "\n",
    "    return all_scores"
   ]
  },
  {
   "cell_type": "markdown",
   "metadata": {},
   "source": [
    "# train eval models"
   ]
  },
  {
   "cell_type": "code",
   "execution_count": null,
   "metadata": {},
   "outputs": [],
   "source": [
    "# TF TFIDF baseline and weighted\n",
    "\n",
    "df1 = pd.DataFrame(train_eval_tf_tfidf(x_train, y_train, x_test, y_test,'Title_Abstract',2))"
   ]
  },
  {
   "cell_type": "code",
   "execution_count": null,
   "metadata": {},
   "outputs": [],
   "source": [
    "# embeddings baseline and weighted\n",
    "\n",
    "df2 = pd.DataFrame(train_eval_embeddings(x_train_r, y_train_r, x_test_r, y_test_r,'Title_Abstract',2))"
   ]
  },
  {
   "cell_type": "code",
   "execution_count": null,
   "metadata": {},
   "outputs": [],
   "source": []
  },
  {
   "cell_type": "code",
   "execution_count": null,
   "metadata": {},
   "outputs": [],
   "source": [
    "df2.sort_values(by=['Recall_ts','F1_tr_cv'], ascending=[False, False]).reset_index(drop=True)"
   ]
  },
  {
   "cell_type": "code",
   "execution_count": null,
   "metadata": {},
   "outputs": [],
   "source": [
    "# TF TFIDF resampled\n",
    "\n",
    "df3 = pd.DataFrame(train_eval_tf_tfidf_resampled(x_train, y_train, x_test, y_test,'Title_Abstract',2))"
   ]
  },
  {
   "cell_type": "code",
   "execution_count": null,
   "metadata": {},
   "outputs": [],
   "source": [
    "# embeddings resampled\n",
    "\n",
    "df4 = pd.DataFrame(train_eval_embedding_resampled(x_train_r, y_train_r, x_test_r, y_test_r,'Title_Abstract',2, model_mpnet))\n",
    "df5 = pd.DataFrame(train_eval_embedding_resampled(x_train_r, y_train_r, x_test_r, y_test_r,'Title_Abstract',2, model_distill))"
   ]
  },
  {
   "cell_type": "markdown",
   "metadata": {},
   "source": [
    "# cocatenate and save model results"
   ]
  },
  {
   "cell_type": "code",
   "execution_count": null,
   "metadata": {},
   "outputs": [],
   "source": [
    "res = pd.concat([df1,df2,df3,df4,df5])\n",
    "res = res.sort_values(by=['Recall_ts','F1_tr_cv'], ascending=[False, False]).reset_index(drop=True)\n",
    "res "
   ]
  },
  {
   "cell_type": "code",
   "execution_count": null,
   "metadata": {},
   "outputs": [],
   "source": [
    "# save model scores\n",
    "\n",
    "# res.to_csv('../results/april/model_scores/model_scores.csv')"
   ]
  },
  {
   "cell_type": "code",
   "execution_count": null,
   "metadata": {},
   "outputs": [],
   "source": []
  },
  {
   "cell_type": "code",
   "execution_count": null,
   "metadata": {},
   "outputs": [],
   "source": []
  },
  {
   "cell_type": "code",
   "execution_count": 40,
   "metadata": {},
   "outputs": [],
   "source": [
    "logreg_weight = LogisticRegression(solver='liblinear', class_weight={0: weight_for_class_0, 1: weight_for_class_1}, random_state=42, C=0.001)\n",
    "svm_weight = SVC(kernel='linear', class_weight={0: weight_for_class_0, 1: weight_for_class_1}, probability=True) #, C=0.1)"
   ]
  },
  {
   "cell_type": "code",
   "execution_count": null,
   "metadata": {},
   "outputs": [],
   "source": [
    "from imblearn.pipeline import make_pipeline \n",
    "\n",
    "from embetter.text import SentenceEncoder\n",
    "\n",
    "from sklearn.model_selection import cross_val_predict, StratifiedKFold\n",
    "\n",
    "from sklearn.metrics import recall_score, precision_score, f1_score\n",
    "from sklearn.metrics import log_loss\n",
    "from sklearn.metrics import confusion_matrix\n",
    "\n",
    "def train_eval_best_model(x_train, y_train, x_test, y_test, kfold, solver):\n",
    "    \"\"\"\"\n",
    "    Train and test model\n",
    "    \n",
    "    Parameters:\n",
    "    -----------\n",
    "    x_train, x_test: list of strings\n",
    "        raw text to create embeddings\n",
    "    y_train_y_test: array \n",
    "        binary labels\n",
    "    text_length: string \n",
    "        indicating whther it is 'text and asbtract' or 'text, asbtract, and main text'\n",
    "    kfold: int\n",
    "        indicating number of folds for cross validation\n",
    "    embedding_model: string\n",
    "        instantiation of embedding model\n",
    "    random_state: int\n",
    "        seed\n",
    "\n",
    "        \n",
    "    Returns:\n",
    "    --------\n",
    "    Dictionary with scores.\n",
    "    Log losss values for test and train set.\n",
    "    Array of test set predicitons\n",
    "    \"\"\"\n",
    "    \n",
    "    pipeline = make_pipeline(\n",
    "        # SentenceEncoder('distiluse-base-multilingual-cased-v1'),\n",
    "        SentenceEncoder('paraphrase-multilingual-mpnet-base-v2'),\n",
    "        logreg_weight\n",
    "\n",
    "    )\n",
    "\n",
    "    y_train_pred_cv = cross_val_predict(pipeline, x_train, y_train, cv=StratifiedKFold(kfold), method='predict') \n",
    "\n",
    "    pipeline.fit(x_train, y_train)\n",
    "    \n",
    "    y_train_pred = pipeline.predict(x_train)\n",
    "\n",
    "    y_test_pred = pipeline.predict(x_test)\n",
    "\n",
    "    scores = {\n",
    "        'Classifier': 'Log_reg',\n",
    "        'Feature_extraction': 'multilingual embedding model',\n",
    "        'Weighting': 'Weighted',\n",
    "        'CV': kfold,\n",
    "        'Solver': solver,\n",
    "        'F1_tr_cv': round(f1_score(y_train, y_train_pred_cv), 3),\n",
    "        'F1_tr': round(f1_score(y_train, y_train_pred), 3),\n",
    "        'F1_ts': round(f1_score(y_test, y_test_pred), 3),\n",
    "        'Precision_tr_cv': round(precision_score(y_train, y_train_pred_cv), 3),\n",
    "        'Precision_tr': round(precision_score(y_train, y_train_pred), 3),\n",
    "        'Precision_ts': round(precision_score(y_test, y_test_pred), 3),\n",
    "        'Recall_tr_cv': round(recall_score(y_train, y_train_pred_cv), 3),\n",
    "        'Recall_tr': round(recall_score(y_train, y_train_pred), 3),\n",
    "        'Recall_ts': round(recall_score(y_test, y_test_pred), 3)\n",
    "        }\n",
    "    \n",
    "    # log loss train set\n",
    "    y_pred_tr = pipeline.predict_proba(x_train) \n",
    "    logloss_tr = log_loss(y_train, y_pred_tr) \n",
    "\n",
    "    # log loss test set\n",
    "    y_pred_ts = pipeline.predict_proba(x_test)  \n",
    "    logloss_ts = log_loss(y_test, y_pred_ts)\n",
    "\n",
    "    print(f'loss training set: {logloss_tr}, \\nloss test set {logloss_ts}')\n",
    "    print(f'confusion matrix train set:\\n{confusion_matrix(y_train, pipeline.predict(x_train))}')\n",
    "    print(f'confusion matrix test set:\\n{confusion_matrix(y_test, pipeline.predict(x_test))}') \n",
    "    \n",
    "    # Get predicted probabilities\n",
    "    probs = pipeline.predict_proba(x_test_r)[:, 1]\n",
    "\n",
    "    # Set a custom threshold\n",
    "    threshold = 0.4  # Change this value to shift the decision boundary\n",
    "    y_pred = (probs >= threshold).astype(int)\n",
    "\n",
    "    # Evaluate results\n",
    "    cm = confusion_matrix(y_test, y_pred)\n",
    "    print(\"Confusion Matrix at threshold =\", threshold)\n",
    "    print(cm)\n",
    " \n",
    "    return scores, y_pred_ts, logloss_tr, logloss_ts"
   ]
  },
  {
   "cell_type": "code",
   "execution_count": 14,
   "metadata": {},
   "outputs": [
    {
     "name": "stdout",
     "output_type": "stream",
     "text": [
      "loss training set: 0.161392598590208, \n",
      "loss test set 0.17819556540488296\n",
      "confusion matrix train set:\n",
      "[[4147  228]\n",
      " [   0   47]]\n",
      "confusion matrix test set:\n",
      "[[1033   61]\n",
      " [   5    7]]\n"
     ]
    }
   ],
   "source": [
    "scores, y_pre_ts, logloss_tr, logloss_ts = train_eval_best_model(x_train_r, y_train_r, x_test_r, y_test_r, 5, 'liblinear') #logreg"
   ]
  },
  {
   "cell_type": "code",
   "execution_count": 15,
   "metadata": {},
   "outputs": [
    {
     "data": {
      "text/plain": [
       "{'Classifier': 'Log_reg',\n",
       " 'Feature_extraction': 'multilingual embedding model',\n",
       " 'Weighting': 'Weighted',\n",
       " 'CV': 5,\n",
       " 'Solver': 'liblinear',\n",
       " 'F1_tr_cv': 0.18,\n",
       " 'F1_tr': 0.292,\n",
       " 'F1_ts': 0.175,\n",
       " 'Precision_tr_cv': 0.105,\n",
       " 'Precision_tr': 0.171,\n",
       " 'Precision_ts': 0.103,\n",
       " 'Recall_tr_cv': 0.617,\n",
       " 'Recall_tr': 1.0,\n",
       " 'Recall_ts': 0.583}"
      ]
     },
     "execution_count": 15,
     "metadata": {},
     "output_type": "execute_result"
    }
   ],
   "source": [
    "scores"
   ]
  },
  {
   "cell_type": "code",
   "execution_count": null,
   "metadata": {},
   "outputs": [
    {
     "name": "stderr",
     "output_type": "stream",
     "text": [
      "/Users/uqvberde/Projects/classifier_spanish/.venv/lib/python3.11/site-packages/sklearn/linear_model/_sag.py:350: ConvergenceWarning: The max_iter was reached which means the coef_ did not converge\n",
      "  warnings.warn(\n",
      "/Users/uqvberde/Projects/classifier_spanish/.venv/lib/python3.11/site-packages/sklearn/linear_model/_sag.py:350: ConvergenceWarning: The max_iter was reached which means the coef_ did not converge\n",
      "  warnings.warn(\n",
      "/Users/uqvberde/Projects/classifier_spanish/.venv/lib/python3.11/site-packages/sklearn/linear_model/_sag.py:350: ConvergenceWarning: The max_iter was reached which means the coef_ did not converge\n",
      "  warnings.warn(\n",
      "/Users/uqvberde/Projects/classifier_spanish/.venv/lib/python3.11/site-packages/sklearn/linear_model/_sag.py:350: ConvergenceWarning: The max_iter was reached which means the coef_ did not converge\n",
      "  warnings.warn(\n",
      "/Users/uqvberde/Projects/classifier_spanish/.venv/lib/python3.11/site-packages/sklearn/linear_model/_sag.py:350: ConvergenceWarning: The max_iter was reached which means the coef_ did not converge\n",
      "  warnings.warn(\n",
      "/Users/uqvberde/Projects/classifier_spanish/.venv/lib/python3.11/site-packages/sklearn/linear_model/_sag.py:350: ConvergenceWarning: The max_iter was reached which means the coef_ did not converge\n",
      "  warnings.warn(\n"
     ]
    },
    {
     "name": "stdout",
     "output_type": "stream",
     "text": [
      "loss training set: 3.5858732890942884, \n",
      "loss test set 3.547950836054177\n",
      "confusion matrix train set:\n",
      "[[3099 1276]\n",
      " [   3   44]]\n",
      "confusion matrix test set:\n",
      "[[766 328]\n",
      " [  2  10]]\n"
     ]
    }
   ],
   "source": [
    "scores, y_pre_ts, logloss_tr, logloss_ts = train_eval_best_model(x_train_r, y_train_r, x_test_r, y_test_r, 5, 'sag') #logreg mpnet"
   ]
  },
  {
   "cell_type": "code",
   "execution_count": 23,
   "metadata": {},
   "outputs": [
    {
     "name": "stdout",
     "output_type": "stream",
     "text": [
      "loss training set: 0.16177061341016308, \n",
      "loss test set 0.17098180988527306\n",
      "confusion matrix train set:\n",
      "[[4085  290]\n",
      " [   0   47]]\n",
      "confusion matrix test set:\n",
      "[[1023   71]\n",
      " [   3    9]]\n"
     ]
    }
   ],
   "source": [
    "scores, y_pre_ts, logloss_tr, logloss_ts = train_eval_best_model(x_train_r, y_train_r, x_test_r, y_test_r, 5, 'liblinear') #logreg mpnet"
   ]
  },
  {
   "cell_type": "code",
   "execution_count": 26,
   "metadata": {},
   "outputs": [
    {
     "name": "stdout",
     "output_type": "stream",
     "text": [
      "loss training set: 0.03142754220294496, \n",
      "loss test set 0.04569813910849828\n",
      "confusion matrix train set:\n",
      "[[4220  155]\n",
      " [   0   47]]\n",
      "confusion matrix test set:\n",
      "[[1053   41]\n",
      " [   6    6]]\n"
     ]
    }
   ],
   "source": [
    "scores, y_pre_ts, logloss_tr, logloss_ts = train_eval_best_model(x_train_r, y_train_r, x_test_r, y_test_r, 5, 'linear') #svm mpnet"
   ]
  },
  {
   "cell_type": "code",
   "execution_count": 30,
   "metadata": {},
   "outputs": [
    {
     "name": "stdout",
     "output_type": "stream",
     "text": [
      "loss training set: 0.1606333841672579, \n",
      "loss test set 0.16818419079007427\n",
      "confusion matrix train set:\n",
      "[[4086  289]\n",
      " [   0   47]]\n",
      "confusion matrix test set:\n",
      "[[1025   69]\n",
      " [   3    9]]\n"
     ]
    }
   ],
   "source": [
    "scores, y_pre_ts, logloss_tr, logloss_ts = train_eval_best_model(x_train_r, y_train_r, x_test_r, y_test_r, 3, 'lbfgs') #logreg mpnet"
   ]
  },
  {
   "cell_type": "code",
   "execution_count": 31,
   "metadata": {},
   "outputs": [
    {
     "data": {
      "text/plain": [
       "{'Classifier': 'Log_reg',\n",
       " 'Feature_extraction': 'multilingual embedding model',\n",
       " 'Weighting': 'Weighted',\n",
       " 'CV': 3,\n",
       " 'Solver': 'lbfgs',\n",
       " 'F1_tr_cv': 0.159,\n",
       " 'F1_tr': 0.245,\n",
       " 'F1_ts': 0.2,\n",
       " 'Precision_tr_cv': 0.092,\n",
       " 'Precision_tr': 0.14,\n",
       " 'Precision_ts': 0.115,\n",
       " 'Recall_tr_cv': 0.596,\n",
       " 'Recall_tr': 1.0,\n",
       " 'Recall_ts': 0.75}"
      ]
     },
     "execution_count": 31,
     "metadata": {},
     "output_type": "execute_result"
    }
   ],
   "source": [
    "scores"
   ]
  },
  {
   "cell_type": "code",
   "execution_count": 34,
   "metadata": {},
   "outputs": [
    {
     "name": "stdout",
     "output_type": "stream",
     "text": [
      "loss training set: 0.47986373039031055, \n",
      "loss test set 0.48095663225297614\n",
      "confusion matrix train set:\n",
      "[[3485  890]\n",
      " [   4   43]]\n",
      "confusion matrix test set:\n",
      "[[890 204]\n",
      " [  2  10]]\n"
     ]
    }
   ],
   "source": [
    "scores, y_pre_ts, logloss_tr, logloss_ts = train_eval_best_model(x_train_r, y_train_r, x_test_r, y_test_r, 2, 'lbfgs') #logreg mpnet c=0.01"
   ]
  },
  {
   "cell_type": "code",
   "execution_count": 45,
   "metadata": {},
   "outputs": [
    {
     "name": "stdout",
     "output_type": "stream",
     "text": [
      "Confusion Matrix at threshold = 0.4\n",
      "[[627 467]\n",
      " [  0  12]]\n",
      "loss training set: 0.48858494861758506, \n",
      "loss test set 0.4900895544422995\n",
      "confusion matrix train set:\n",
      "[[3430  945]\n",
      " [   4   43]]\n",
      "confusion matrix test set:\n",
      "[[873 221]\n",
      " [  2  10]]\n"
     ]
    },
    {
     "data": {
      "text/plain": [
       "{'Classifier': 'Log_reg',\n",
       " 'Feature_extraction': 'multilingual embedding model',\n",
       " 'Weighting': 'Weighted',\n",
       " 'CV': 2,\n",
       " 'Solver': 'liblinear',\n",
       " 'F1_tr_cv': 0.078,\n",
       " 'F1_tr': 0.083,\n",
       " 'F1_ts': 0.082,\n",
       " 'Precision_tr_cv': 0.041,\n",
       " 'Precision_tr': 0.044,\n",
       " 'Precision_ts': 0.043,\n",
       " 'Recall_tr_cv': 0.851,\n",
       " 'Recall_tr': 0.915,\n",
       " 'Recall_ts': 0.833}"
      ]
     },
     "execution_count": 45,
     "metadata": {},
     "output_type": "execute_result"
    }
   ],
   "source": [
    "logreg_weight = LogisticRegression(solver='liblinear', class_weight={0: weight_for_class_0, 1: weight_for_class_1}, random_state=42, C=0.01)\n",
    "scores, y_pre_ts, logloss_tr, logloss_ts = train_eval_best_model(x_train_r, y_train_r, x_test_r, y_test_r, 2, 'liblinear') \n",
    "scores"
   ]
  },
  {
   "cell_type": "code",
   "execution_count": 46,
   "metadata": {},
   "outputs": [
    {
     "data": {
      "image/png": "[encoded data removed]",
      "text/plain": [
       "<Figure size 1500x700 with 1 Axes>"
      ]
     },
     "metadata": {},
     "output_type": "display_data"
    }
   ],
   "source": [
    "import matplotlib.pyplot as plt\n",
    "\n",
    "y_pred_ts_p = y_pre_ts[:,1] # subset class of interest --> 1d array\n",
    "y_pred_ts_n = y_pre_ts[:,0]\n",
    "\n",
    "plt.figure(figsize=(15,7))\n",
    "plt.hist(y_pred_ts_n, bins=100, label='Negatives')\n",
    "plt.hist(y_pred_ts_p, bins=100, label='Positives', alpha=0.7, color='r')\n",
    "plt.xlabel('Predicted probabilities', fontsize=15)\n",
    "plt.ylabel('Number of examples', fontsize=15)\n",
    "plt.legend(fontsize=15)\n",
    "plt.tick_params(axis='both', labelsize=15, pad=5)\n",
    "# plt.savefig('../results/model_scores/predicted_proba_logreg_ts.png', dpi=800)\n",
    "plt.show() "
   ]
  },
  {
   "cell_type": "code",
   "execution_count": 41,
   "metadata": {},
   "outputs": [
    {
     "name": "stdout",
     "output_type": "stream",
     "text": [
      "loss training set: 0.6455120638785955, \n",
      "loss test set 0.6473044595363218\n",
      "confusion matrix train set:\n",
      "[[3122 1253]\n",
      " [   4   43]]\n",
      "confusion matrix test set:\n",
      "[[790 304]\n",
      " [  2  10]]\n"
     ]
    },
    {
     "data": {
      "text/plain": [
       "{'Classifier': 'Log_reg',\n",
       " 'Feature_extraction': 'multilingual embedding model',\n",
       " 'Weighting': 'Weighted',\n",
       " 'CV': 2,\n",
       " 'Solver': 'liblinear',\n",
       " 'F1_tr_cv': 0.058,\n",
       " 'F1_tr': 0.064,\n",
       " 'F1_ts': 0.061,\n",
       " 'Precision_tr_cv': 0.03,\n",
       " 'Precision_tr': 0.033,\n",
       " 'Precision_ts': 0.032,\n",
       " 'Recall_tr_cv': 0.83,\n",
       " 'Recall_tr': 0.915,\n",
       " 'Recall_ts': 0.833}"
      ]
     },
     "execution_count": 41,
     "metadata": {},
     "output_type": "execute_result"
    }
   ],
   "source": [
    "scores, y_pre_ts, logloss_tr, logloss_ts = train_eval_best_model(x_train_r, y_train_r, x_test_r, y_test_r, 2, 'liblinear') #logreg mpnet c=0.001\n",
    "scores"
   ]
  },
  {
   "cell_type": "code",
   "execution_count": 35,
   "metadata": {},
   "outputs": [],
   "source": [
    "x_train_rr, x_test_rr, y_train_rr, y_test_rr = train_test_split(x_raw, y, test_size=0.20, random_state=42)"
   ]
  },
  {
   "cell_type": "code",
   "execution_count": 36,
   "metadata": {},
   "outputs": [
    {
     "name": "stdout",
     "output_type": "stream",
     "text": [
      "loss training set: 0.45975337886363415, \n",
      "loss test set 0.4716875049420944\n",
      "confusion matrix train set:\n",
      "[[3617  760]\n",
      " [   1   44]]\n",
      "confusion matrix test set:\n",
      "[[875 217]\n",
      " [  3  11]]\n"
     ]
    }
   ],
   "source": [
    "scores, y_pre_ts, logloss_tr, logloss_ts = train_eval_best_model(x_train_rr, y_train_rr, x_test_rr, y_test_rr, 2, 'lbfgs') #logreg mpnet c=0.01"
   ]
  },
  {
   "cell_type": "code",
   "execution_count": null,
   "metadata": {},
   "outputs": [],
   "source": []
  },
  {
   "cell_type": "code",
   "execution_count": null,
   "metadata": {},
   "outputs": [],
   "source": []
  }
 ],
 "metadata": {
  "kernelspec": {
   "display_name": ".venv",
   "language": "python",
   "name": "python3"
  },
  "language_info": {
   "codemirror_mode": {
    "name": "ipython",
    "version": 3
   },
   "file_extension": ".py",
   "mimetype": "text/x-python",
   "name": "python",
   "nbconvert_exporter": "python",
   "pygments_lexer": "ipython3",
   "version": "3.11.3"
  }
 },
 "nbformat": 4,
 "nbformat_minor": 2
}
