{
 "cells": [
  {
   "cell_type": "code",
   "execution_count": null,
   "id": "593b1474",
   "metadata": {},
   "outputs": [],
   "source": [
    "# March 2024\n",
    "# Model training - XLM-RoBERTa using pytorch\n",
    "# Violeta Berdejo-Espinola"
   ]
  },
  {
   "cell_type": "code",
   "execution_count": 1,
   "id": "fa8000d9",
   "metadata": {},
   "outputs": [
    {
     "data": {
      "text/html": [
       "<style>.container {width:90% !important;}</style>"
      ],
      "text/plain": [
       "<IPython.core.display.HTML object>"
      ]
     },
     "metadata": {},
     "output_type": "display_data"
    },
    {
     "name": "stdout",
     "output_type": "stream",
     "text": [
      "True\n",
      "mps\n",
      "('14.4', ('', '', ''), 'arm64')\n"
     ]
    },
    {
     "name": "stderr",
     "output_type": "stream",
     "text": [
      "/var/folders/dz/szfgpm5s0tn_frclv0gl7m2c0000gr/T/ipykernel_99030/2082705807.py:11: UserWarning: 'has_mps' is deprecated, please use 'torch.backends.mps.is_built()'\n",
      "  print(torch.has_mps) # checking if mps is available\n"
     ]
    }
   ],
   "source": [
    "from IPython.display import display, HTML\n",
    "display(HTML(\"<style>.container {width:90% !important;}</style>\"))\n",
    "\n",
    "import numpy as np\n",
    "import pandas as pd\n",
    "import os\n",
    "import mpu\n",
    "import torch\n",
    "import torch.nn as nn\n",
    "\n",
    "print(torch.has_mps) # checking if mps is available \n",
    "device = torch.device('mps')\n",
    "print(device)\n",
    "\n",
    "import platform; \n",
    "print(platform.mac_ver()) # checking pytorch version for mac - should be arm54"
   ]
  },
  {
   "cell_type": "markdown",
   "id": "d68d1fc0",
   "metadata": {},
   "source": [
    "# read data"
   ]
  },
  {
   "cell_type": "code",
   "execution_count": 2,
   "id": "61517bc9",
   "metadata": {},
   "outputs": [],
   "source": [
    "X_train = mpu.io.read('../data/X_train_xlm.pickle').to(device)\n",
    "X_test = mpu.io.read('../data/X_test_xlm.pickle').to(device)\n",
    "y_train = mpu.io.read('../data/y_train_xlm.pickle').to(device)\n",
    "y_test = mpu.io.read('../data/y_test_xlm.pickle').to(device)\n",
    "\n",
    "class_weights = mpu.io.read('../data/class_weights.pickle')"
   ]
  },
  {
   "cell_type": "code",
   "execution_count": 3,
   "id": "18ad4a28",
   "metadata": {},
   "outputs": [],
   "source": [
    "X_train_ros = mpu.io.read('../data/embedding_train_ros.pickle')\n",
    "X_test_ros = mpu.io.read('../data/embedding_test_ros.pickle')\n",
    "y_train_ros = mpu.io.read('../data/y_train_emb_ros.pickle')\n",
    "y_test_ros = mpu.io.read('../data/y_test_emb_ros.pickle')\n",
    "\n",
    "X_train_ros = torch.from_numpy(X_train_ros).to(device)\n",
    "X_test_ros = torch.from_numpy(X_test_ros).to(device)\n",
    "y_train_ros = torch.tensor(y_train_ros).to(device)\n",
    "y_test_ros = torch.tensor(y_test_ros).to(device)"
   ]
  },
  {
   "cell_type": "code",
   "execution_count": null,
   "id": "2f4fc7ec",
   "metadata": {},
   "outputs": [],
   "source": [
    "len(X_train['input_ids'])\n",
    "y_train.bincount()"
   ]
  },
  {
   "cell_type": "markdown",
   "id": "c6182f27",
   "metadata": {},
   "source": [
    "# model training"
   ]
  },
  {
   "cell_type": "code",
   "execution_count": 4,
   "id": "e3c0564c",
   "metadata": {},
   "outputs": [
    {
     "name": "stderr",
     "output_type": "stream",
     "text": [
      "Some weights of XLMRobertaForSequenceClassification were not initialized from the model checkpoint at xlm-roberta-base and are newly initialized: ['classifier.dense.bias', 'classifier.dense.weight', 'classifier.out_proj.bias', 'classifier.out_proj.weight']\n",
      "You should probably TRAIN this model on a down-stream task to be able to use it for predictions and inference.\n"
     ]
    }
   ],
   "source": [
    "from transformers import (XLMRobertaForSequenceClassification, AutoTokenizer)\n",
    "\n",
    "id2label = {'negative': 0, \n",
    "            'positive': 1}\n",
    "label2id = {0: 'negative',\n",
    "            1: 'positive'}\n",
    "\n",
    "model = XLMRobertaForSequenceClassification.from_pretrained('xlm-roberta-base',\n",
    "                                                            num_labels=2, \n",
    "                                                            id2label=id2label, \n",
    "                                                            label2id=label2id).to(device)\n",
    "\n",
    "tokenizer = AutoTokenizer.from_pretrained('xlm-roberta-base')\n",
    "\n",
    "# freeze transformer model parametres\n",
    "\n",
    "for param in model.base_model.parameters():\n",
    "    param.requires_grad = False"
   ]
  },
  {
   "cell_type": "code",
   "execution_count": null,
   "id": "da856ffd",
   "metadata": {},
   "outputs": [],
   "source": [
    "# creating dataloaders\n",
    "\n",
    "from torch.utils.data import TensorDataset, DataLoader, RandomSampler\n",
    "\n",
    "batch_size = 16\n",
    "\n",
    "# TensorDataset(input_features, labels)\n",
    "\n",
    "train_xlm = TensorDataset(X_train['input_ids'], X_train['attention_mask'], y_train)\n",
    "train_sampler = RandomSampler(train_xlm)\n",
    "train_dataloader = DataLoader(train_xlm, sampler=train_sampler, batch_size=batch_size)\n",
    "\n",
    "test_xlm = TensorDataset(X_test['input_ids'], X_test['attention_mask'], y_test)\n",
    "test_dataloader = DataLoader(test_xlm, batch_size=batch_size)"
   ]
  },
  {
   "cell_type": "code",
   "execution_count": null,
   "id": "649b752e",
   "metadata": {},
   "outputs": [],
   "source": [
    "# epoch:  1 forward and backward pass of ALL training examples\n",
    "# bacth size: number of training samples in one forward and backwards pass\n",
    "# number of iterations: number of passes until the model has seen ALL examples. Each pass using batch_size number of samples\n",
    "# if 100 samples, batch_size=20, then it does 5 iterations per epoch to see ALL examples\n",
    "\n",
    "# if learning rate is too small:\n",
    "# - model goes through many iteartions to converge\n",
    "# - the loss does not change\n",
    "\n",
    "# defining parametres for gardient descent\n",
    "\n",
    "epochs = 8\n",
    "\n",
    "# loss function and optimizer\n",
    "\n",
    "loss_function = nn.CrossEntropyLoss(weight=class_weights)\n",
    "\n",
    "optimizer = torch.optim.AdamW(model.parameters(), lr = 1e-3)\n",
    "\n",
    "# total number of training steps is number of batches * number of epochs\n",
    "\n",
    "total_steps = len(train_dataloader) * epochs\n",
    "\n",
    "# create the learning rate scheduler\n",
    "\n",
    "from transformers import get_linear_schedule_with_warmup\n",
    "\n",
    "scheduler = get_linear_schedule_with_warmup(optimizer,\n",
    "                                            num_warmup_steps=0,\n",
    "                                            num_training_steps=total_steps)"
   ]
  },
  {
   "cell_type": "code",
   "execution_count": null,
   "id": "375304cf",
   "metadata": {},
   "outputs": [],
   "source": [
    "# function to train model\n",
    "\n",
    "def Trainer(model, train_dataloader, epochs, batch_size, device, optimizer, scheduler):\n",
    "    # Store the average loss after each epoch \n",
    "    loss_values = []\n",
    "\n",
    "    # number of total steps/iterations for each epoch\n",
    "    print('total steps per epoch: ', len(train_dataloader) // batch_size)\n",
    "\n",
    "    # looping over epochs\n",
    "    for epoch_i in range(0, epochs):\n",
    "        print('training on epoch: ', epoch_i)\n",
    "\n",
    "        # set start time \n",
    "        t0 = time.time()\n",
    "        # reset total loss\n",
    "        total_loss = 0\n",
    "\n",
    "        # model in training \n",
    "        model.train()\n",
    "\n",
    "        # loop through batch \n",
    "        for step, batch in enumerate(train_dataloader):\n",
    "\n",
    "            # Progress update every 50 step \n",
    "            if step % 50 == 0 and not step == 0:\n",
    "                print('training on step: ', step)\n",
    "                print('total time used is: {0:.2f} s'.format(time.time() - t0))\n",
    "\n",
    "            # load data from dataloader \n",
    "            b_input_ids = batch[0].to(device)\n",
    "            b_input_mask = batch[1].to(device)\n",
    "            b_labels = batch[2].to(device)\n",
    "\n",
    "            # clear any previously calculated gradients \n",
    "            model.zero_grad()\n",
    "\n",
    "            # get outputs\n",
    "            outputs = model(b_input_ids,\n",
    "                            token_type_ids=None,\n",
    "                            attention_mask=b_input_mask,\n",
    "                            labels=b_labels)\n",
    "            \n",
    "            # get loss\n",
    "            loss = outputs[0]\n",
    "            \n",
    "            loss.backward()\n",
    "            \n",
    "            # update optimizer\n",
    "            optimizer.step()\n",
    "\n",
    "            # update learning rate \n",
    "            scheduler.step()\n",
    "\n",
    "            # total loss\n",
    "            total_loss += loss.item()\n",
    "\n",
    "            # clip the norm of the gradients to 1.0.\n",
    "            torch.nn.utils.clip_grad_norm_(model.parameters(), 1.0)         \n",
    "\n",
    "        # Calculate the average loss over the training data.\n",
    "        avg_train_loss = total_loss / len(train_dataloader)\n",
    "\n",
    "        # Store the loss value for plotting the learning curve.\n",
    "        loss_values.append(avg_train_loss)\n",
    "        \n",
    "        print(\"average training loss: {0:.4f}\".format(avg_train_loss))\n",
    "\n",
    "    return loss_values"
   ]
  },
  {
   "cell_type": "code",
   "execution_count": null,
   "id": "a6acae17",
   "metadata": {
    "scrolled": true
   },
   "outputs": [],
   "source": [
    "%%time\n",
    "\n",
    "torch.manual_seed(42)\n",
    "\n",
    "import time\n",
    "# results = Trainer(model, train_dataloader, epochs, batch_size, device, optimizer, scheduler)\n",
    "results5  = Trainer(model, train_dataloader, epochs, batch_size, device, optimizer, scheduler)"
   ]
  },
  {
   "cell_type": "code",
   "execution_count": null,
   "id": "0f4438e0",
   "metadata": {},
   "outputs": [],
   "source": [
    "print(results3,results4)"
   ]
  },
  {
   "cell_type": "code",
   "execution_count": null,
   "id": "8b86175c",
   "metadata": {},
   "outputs": [],
   "source": [
    "import pandas as pd\n",
    "\n",
    "# d = pd.read_csv('../results/transformer_model_loss.csv')\n",
    "df = pd.DataFrame({'2-epochs': pd.Series(results3),\n",
    "                  '13-epochs': pd.Series(results4),\n",
    "                  '18-epochs': pd.Series(results5)})\n",
    "# df = pd.concat([d, dd], axis=1)\n",
    "df\n",
    "# df = df.drop(columns='Unnamed: 0').iloc[:,[0,1,2,4,3]]\n",
    "print(df)\n",
    "df.to_csv('../results/model_loss2.csv')"
   ]
  },
  {
   "cell_type": "code",
   "execution_count": null,
   "id": "fbe3d8d0",
   "metadata": {},
   "outputs": [],
   "source": [
    "# plot model loss\n",
    "\n",
    "import matplotlib.pyplot as plt\n",
    "plt.style.use('seaborn')\n",
    "\n",
    "# epoch = [1,2,3,4,5,6,7,8,9,10,11,12,13,14,15,16,17,18,19,20]\n",
    "\n",
    "def plot_loss(epoch, results, name):\n",
    "    \n",
    "    # plot\n",
    "    plt.plot(epoch, results, linestyle='--',color='orange')\n",
    "    # title\n",
    "    plt.title('Model loss')\n",
    "    # x label\n",
    "    plt.xlabel('Epochs')\n",
    "    # y label\n",
    "    plt.ylabel('Loss')\n",
    "\n",
    "    plt.legend(loc='best')\n",
    "    return plt.savefig(fname=name, dpi=800), plt.show()\n",
    "\n",
    "# plot\n",
    "epoch = range(0,epochs)\n",
    "\n",
    "plot_loss(epoch, results5, name='../results/Loss_epochs_18.png')"
   ]
  },
  {
   "cell_type": "code",
   "execution_count": null,
   "id": "f9fa1039",
   "metadata": {},
   "outputs": [],
   "source": [
    "# predict on the test set\n",
    "\n",
    "import numpy as np\n",
    "\n",
    "t0 = time.time()\n",
    "\n",
    "def Eval(model, test_dataloader, device, ):\n",
    "# model in validation mode\n",
    "model.eval()\n",
    "\n",
    "# save prediction\n",
    "predictions,true_labels =[],[]\n",
    "\n",
    "# evaluate data for one epoch\n",
    "for batch in test_dataloader:\n",
    "    # Add batch to GPU\n",
    "    batch = tuple(t.to(device) for t in batch)\n",
    "    # Unpack the inputs from our dataloader\n",
    "    b_input_ids, b_input_mask, b_labels = batch\n",
    "    # validation\n",
    "    with torch.no_grad():\n",
    "        outputs = model(b_input_ids,\n",
    "                        token_type_ids=None,\n",
    "                        attention_mask=b_input_mask)\n",
    "    \n",
    "    # get output\n",
    "    logits = outputs[0]\n",
    "    \n",
    "    # move logits and labels to CPU\n",
    "    logits = logits.detach().cpu().numpy()\n",
    "    label_ids = b_labels.to('mpu').numpy()\n",
    "    final_prediction = np.argmax(logits, axis=-1).flatten() # predicitions with the highest probability\n",
    "    \n",
    "    predictions.append(final_prediction)\n",
    "    true_labels.append(label_ids)\n",
    "    \n",
    "print('total time used is: {0:.2f} s'.format(time.time() - t0))"
   ]
  },
  {
   "cell_type": "code",
   "execution_count": null,
   "id": "388dbd2e",
   "metadata": {},
   "outputs": [],
   "source": [
    "# loss_values, outputs"
   ]
  },
  {
   "cell_type": "code",
   "execution_count": null,
   "id": "19637b62",
   "metadata": {},
   "outputs": [],
   "source": [
    "predictions[:3]"
   ]
  },
  {
   "cell_type": "code",
   "execution_count": null,
   "id": "79635f80",
   "metadata": {},
   "outputs": [],
   "source": [
    "# concatenate list of arrays\n",
    "\n",
    "final_prediction_list = np.concatenate(predictions)\n",
    "final_truelabel_list = np.concatenate(true_labels)"
   ]
  },
  {
   "cell_type": "code",
   "execution_count": null,
   "id": "5fb6553a",
   "metadata": {},
   "outputs": [],
   "source": [
    "from sklearn.metrics import confusion_matrix, classification_report\n",
    "\n",
    "cr = classification_report(final_truelabel_list, \n",
    "                           final_prediction_list)\n",
    "print(cr)"
   ]
  },
  {
   "cell_type": "code",
   "execution_count": null,
   "id": "4ada66f6",
   "metadata": {},
   "outputs": [],
   "source": [
    "loss_values_2"
   ]
  },
  {
   "cell_type": "code",
   "execution_count": null,
   "id": "68bba0ca",
   "metadata": {},
   "outputs": [],
   "source": [
    "# storing loss values\n",
    "\n",
    "loss = pd.DataFrame({'lr: 0.001': loss_values, \n",
    "                    'lr: 0.01': loss_values_2})"
   ]
  },
  {
   "cell_type": "code",
   "execution_count": null,
   "id": "f5aae6fe",
   "metadata": {},
   "outputs": [],
   "source": [
    "# lineplot\n",
    "\n",
    "import matplotlib.pyplot as plt \n",
    "\n",
    "plt.style.use('ggplot')\n",
    "\n",
    "x_epoch = list(range(0, epochs))\n",
    "\n",
    "y_loss = loss_values\n",
    "\n",
    "plt.plot(x_epoch, y_loss, color='#881111', linestyle=':', linewidth=1, marker='.', label='learning rate: 0.001')\n",
    "\n",
    "y_loss_2 = loss_values_2\n",
    "\n",
    "plt.plot(x_epoch, y_loss_2, 'b--', label='learning rate: 0.01')\n",
    "\n",
    "plt.xlabel(\"iterations\")\n",
    "plt.ylabel('loss')\n",
    "plt.legend()\n",
    "plt.grid(True)\n",
    "plt.tight_layout()\n",
    "\n",
    "plt.savefig('plot.png')\n",
    "\n",
    "plt.show"
   ]
  },
  {
   "cell_type": "code",
   "execution_count": null,
   "id": "263d127d",
   "metadata": {},
   "outputs": [],
   "source": []
  },
  {
   "cell_type": "code",
   "execution_count": null,
   "id": "59f2e97e",
   "metadata": {},
   "outputs": [],
   "source": [
    "# Lastly, we might train the neural network with mini-batch (stochastic) gradient descent, which means that we split the original training dataset into 𝑀=⌈𝑁/𝐵⌉\n",
    "#  batches, where \n",
    "#     𝑁 is the size of the original dataset and \n",
    "#     𝐵 is the batch size (typical numbers are 32 or 64). So, if you have, say, 𝑁=10000\n",
    "#  and 𝐵=32\n",
    "# , then we have 𝑀=312\n",
    "#  mini-batches; so, for each epoch, you will perform 312 gradient steps, one for each mini-batch."
   ]
  }
 ],
 "metadata": {
  "kernelspec": {
   "display_name": "Python 3 (ipykernel)",
   "language": "python",
   "name": "python3"
  },
  "language_info": {
   "codemirror_mode": {
    "name": "ipython",
    "version": 3
   },
   "file_extension": ".py",
   "mimetype": "text/x-python",
   "name": "python",
   "nbconvert_exporter": "python",
   "pygments_lexer": "ipython3",
   "version": "3.11.3"
  }
 },
 "nbformat": 4,
 "nbformat_minor": 5
}
