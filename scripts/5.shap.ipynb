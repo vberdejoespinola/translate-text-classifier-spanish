{
 "cells": [
  {
   "cell_type": "code",
   "execution_count": null,
   "metadata": {},
   "outputs": [],
   "source": [
    "# February 2025\n",
    "# Data exploration and cleaning\n",
    "# Violeta Berdejo-Espinola"
   ]
  },
  {
   "cell_type": "markdown",
   "metadata": {},
   "source": [
    "# read data"
   ]
  },
  {
   "cell_type": "code",
   "execution_count": null,
   "metadata": {},
   "outputs": [],
   "source": [
    "import mpu\n",
    "from sklearn.preprocessing import LabelEncoder\n",
    "\n",
    "# read classification model \n",
    "\n",
    "clf = mpu.io.read('../results/model/best_model.pickle')\n",
    "\n",
    "# raw corpus\n",
    "\n",
    "corpus_raw = mpu.io.read('../data/corpus_raw.pickle')\n",
    "\n",
    "x = [' '.join(each_document) for each_document in corpus_raw]\n",
    "\n",
    "# pos, negs\n",
    "\n",
    "pos = mpu.io.read('../data/pos.pickle')\n",
    "neg = mpu.io.read('../data/neg.pickle')\n",
    "y = [1] * len(pos) + [0] * len(neg)"
   ]
  },
  {
   "cell_type": "markdown",
   "metadata": {},
   "source": [
    "# shap of positive instances"
   ]
  },
  {
   "cell_type": "code",
   "execution_count": null,
   "metadata": {},
   "outputs": [],
   "source": [
    "import shap\n",
    "import numpy as np\n",
    "import pandas as pd\n",
    "from sklearn.linear_model import LogisticRegression\n",
    "from sentence_transformers import SentenceTransformer\n",
    "from sklearn.model_selection import train_test_split\n",
    "\n",
    "# encode text to embeddings using SentenceTransformer\n",
    "encoder = SentenceTransformer('distiluse-base-multilingual-cased-v1')\n",
    "X = encoder.encode(x)\n",
    "\n",
    "x_train, x_test, y_train, y_test = train_test_split(X, y, random_state=42,  test_size=0.20,)\n",
    "\n",
    "# train a Logistic Regression model on embeddings\n",
    "clf.fit(x_train, y_train)\n",
    "\n",
    "# define SHAP text Explainer with token masking\n",
    "masker = shap.maskers.Text() \n",
    "\n",
    "def prediction_function(text_batch):\n",
    "    \n",
    "    \"\"\"Encodes perturbed text into embeddings and returns class probabilities.\"\"\"\n",
    "    \n",
    "    embeddings = encoder.encode(text_batch)  # encode text to embeddings\n",
    "    return clf.predict_proba(embeddings)[:]  # 1 to return probability for class 1\n",
    "\n",
    "explainer = shap.Explainer(prediction_function, masker)\n",
    "\n",
    "# compute SHAP Values\n",
    "shap_values_all = explainer(x[:])"
   ]
  },
  {
   "cell_type": "code",
   "execution_count": null,
   "metadata": {},
   "outputs": [],
   "source": [
    "# visualize SHAP feature importance of positive instances\n",
    "shap.plots.text(shap_values_all[:63])"
   ]
  },
  {
   "cell_type": "code",
   "execution_count": null,
   "metadata": {},
   "outputs": [],
   "source": [
    "# visualize SHAP feature importance of negative instances\n",
    "shap.plots.text(shap_values_all[100:151])"
   ]
  },
  {
   "cell_type": "markdown",
   "metadata": {},
   "source": [
    "# save shap.plot as html"
   ]
  },
  {
   "cell_type": "code",
   "execution_count": null,
   "metadata": {},
   "outputs": [],
   "source": [
    "import matplotlib.pyplot as plt\n",
    "from IPython.core.display import HTML\n",
    "\n",
    "shap_values_positives = shap_values_all[:63] \n",
    "\n",
    "with open('../results/shap/shap_values_positive_instances.html', 'w') as file:\n",
    "     file.write(shap.plots.text(shap_values_positives, display=False))"
   ]
  },
  {
   "cell_type": "markdown",
   "metadata": {},
   "source": [
    "# features having the largest impact in positive predictions"
   ]
  },
  {
   "cell_type": "code",
   "execution_count": null,
   "metadata": {},
   "outputs": [],
   "source": [
    "import matplotlib.pyplot as plt\n",
    "\n",
    "shap_plot = shap.plots.bar(shap_values_positives.abs.max(0), show=False)\n",
    "\n",
    "# plt.savefig(\"shap_plot_positive_instances.png\",dpi=700, format=\"png\", bbox_inches=\"tight\")\n",
    "\n",
    "plt.show()"
   ]
  }
 ],
 "metadata": {
  "kernelspec": {
   "display_name": ".venv",
   "language": "python",
   "name": "python3"
  },
  "language_info": {
   "codemirror_mode": {
    "name": "ipython",
    "version": 3
   },
   "file_extension": ".py",
   "mimetype": "text/x-python",
   "name": "python",
   "nbconvert_exporter": "python",
   "pygments_lexer": "ipython3",
   "version": "3.11.3"
  }
 },
 "nbformat": 4,
 "nbformat_minor": 2
}
