{
 "cells": [
  {
   "cell_type": "code",
   "execution_count": 13,
   "id": "5d8ae16b",
   "metadata": {},
   "outputs": [],
   "source": [
    "# April 2025\n",
    "# Data exploration and cleaning\n",
    "# Violeta Berdejo-Espinola & Ákos Hájas"
   ]
  },
  {
   "cell_type": "code",
   "execution_count": 14,
   "id": "d90a222b",
   "metadata": {},
   "outputs": [],
   "source": [
    "# %pip install pyarrow polars levenshtein langdetect fasttext-wheel"
   ]
  },
  {
   "cell_type": "code",
   "execution_count": 15,
   "id": "362bbf35",
   "metadata": {},
   "outputs": [
    {
     "name": "stdout",
     "output_type": "stream",
     "text": [
      "10340 111\n"
     ]
    }
   ],
   "source": [
    "import re\n",
    "import pandas as pd\n",
    "import polars as pl\n",
    "\n",
    "df_repo = pl.read_parquet(\"../datasets/from_repo/majom_2025_april.parquet\")\n",
    "\n",
    "df_pos = pd.read_excel(\"../datasets/from_translate/translatE_spanish_positives_112.xlsx\")\n",
    "\n",
    "print(len(df_repo), len(df_pos))"
   ]
  },
  {
   "cell_type": "markdown",
   "id": "0524ea87",
   "metadata": {},
   "source": [
    "# data after 2019"
   ]
  },
  {
   "cell_type": "code",
   "execution_count": 16,
   "id": "2643718a",
   "metadata": {},
   "outputs": [
    {
     "data": {
      "text/plain": [
       "1884"
      ]
     },
     "execution_count": 16,
     "metadata": {},
     "output_type": "execute_result"
    }
   ],
   "source": [
    "df_post_2019 = (df_repo.filter((pl.col('pub_year') == 2024) | (pl.col('pub_year') == 2023) | (pl.col('pub_year') == 2022) | (pl.col('pub_year') == 2021) | (pl.col('pub_year') == 2020)))\n",
    "\n",
    "# df_post_2019.write_csv('../data/v2/pos_neg_2020-2024.csv')\n",
    "\n",
    "len(df_post_2019)"
   ]
  },
  {
   "cell_type": "markdown",
   "id": "1b3f4b05",
   "metadata": {},
   "source": [
    "# rename columns, drop nas, subset dfs"
   ]
  },
  {
   "cell_type": "code",
   "execution_count": 17,
   "id": "fca46101",
   "metadata": {},
   "outputs": [
    {
     "name": "stdout",
     "output_type": "stream",
     "text": [
      "10009 69\n"
     ]
    }
   ],
   "source": [
    "\n",
    "# subset\n",
    "\n",
    "df_repo = df_repo.select(['title', 'abstract_es', 'body_es', 'journal', 'pub_year'])\n",
    "df_repo = df_repo.rename({'abstract_es': 'abstract', \n",
    "                          'body_es':'body'})\n",
    "\n",
    "\n",
    "df_pos = df_pos[['Title - non-English language','Abstract - non-English','Journal','Year','Reference Type']]\n",
    "df_pos =  df_pos.rename(columns={'Title - non-English language':\"title\",\n",
    "                                 'Abstract - non-English':\"abstract\", \n",
    "                                 'Journal':\"journal\",\n",
    "                                 'Year':\"pub_year\",\n",
    "                                 'Reference Type':\"ref_type\"\n",
    "                                 }\n",
    "                        )\n",
    "\n",
    "# fill empty strings with null, unwanted articles \n",
    "\n",
    "df_repo = df_repo.with_columns(\n",
    "    pl.when(pl.col(pl.String).str.len_chars() == 0)\n",
    "    .then(None)\n",
    "    .otherwise(pl.col(pl.String))\n",
    "    .name.keep()\n",
    ")\n",
    "\n",
    "# drop duplicates, nulls\n",
    "\n",
    "df_repo = df_repo.unique(subset=\"title\")\n",
    "\n",
    "df_repo = df_repo.drop_nulls(subset=[\"title\", \"abstract\", \"journal\"])\n",
    "\n",
    "df_repo = df_repo.filter(\n",
    "    ~pl.col(\"title\").str.contains(\"In Memoriam|Editorial|Fe de erratas|FE DE ERRATA|ERRATA|aniversario|ARTÍCULO RETRACTADO\") #|\n",
    "    # ~pl.col(\"main_text_spa\").str.contains(\"Texto completo disponible sólo en PDF|Full text available only in PDF format Texto completo disponible sólo en PDF\")\n",
    ")\n",
    "\n",
    "df_pos = df_pos.dropna(subset=[\"title\", \"abstract\",\"journal\"])\n",
    "\n",
    "# cast to polars\n",
    "\n",
    "df_pos = pl.from_pandas(df_pos)\n",
    "\n",
    "print(len(df_repo), len(df_pos))"
   ]
  },
  {
   "cell_type": "markdown",
   "id": "214418a5",
   "metadata": {},
   "source": [
    "# normalize text\n"
   ]
  },
  {
   "cell_type": "code",
   "execution_count": 18,
   "id": "8288c8ea",
   "metadata": {},
   "outputs": [
    {
     "name": "stdout",
     "output_type": "stream",
     "text": [
      "10009 69\n"
     ]
    }
   ],
   "source": [
    "# function to normalize text\n",
    "\n",
    "def normalize_title(title):\n",
    "    title = re.sub(\"\\s+\", \" \", title).capitalize().strip().replace(\".\", \"\")\n",
    "    title = re.sub(\"\\xa0\", \" \", title)\n",
    "    title = re.sub(\"_x000d__x000d_\", \" \", title)\n",
    "    return re.sub(\"\\n{1,}\", \" \", title)\n",
    "\n",
    "# normalize  title and journal\n",
    "\n",
    "df_pos = df_pos.with_columns(  \n",
    "    pl.col(\"title\")\n",
    "    .map_elements(normalize_title, return_dtype=pl.Utf8),\n",
    "\n",
    "    pl.col('journal')\n",
    "    .map_elements(normalize_title, return_dtype=pl.Utf8),\n",
    ")\n",
    "\n",
    "df_repo = df_repo.with_columns(\n",
    "    pl.col('title')\n",
    "    .map_elements(normalize_title, return_dtype=pl.Utf8),\n",
    "\n",
    "    pl.col('journal')\n",
    "    .map_elements(normalize_title, return_dtype=pl.Utf8),\n",
    ")\n",
    "\n",
    "print(len(df_repo), len(df_pos))"
   ]
  },
  {
   "cell_type": "markdown",
   "id": "94ab0f0d",
   "metadata": {},
   "source": [
    "# remove instances with an abstract shorter than 300 characters\n"
   ]
  },
  {
   "cell_type": "code",
   "execution_count": 19,
   "id": "ee465fb7",
   "metadata": {},
   "outputs": [
    {
     "data": {
      "image/png": "[encoded data removed]",
      "text/plain": [
       "<Figure size 640x480 with 1 Axes>"
      ]
     },
     "metadata": {},
     "output_type": "display_data"
    }
   ],
   "source": [
    "import matplotlib.pyplot as plt\n",
    "\n",
    "# Calculate character lengths excluding spaces\n",
    "char_lens = [len(abstract.replace(\" \", \"\")) for abstract in df_repo['abstract']]\n",
    "\n",
    "# Plot the histogram\n",
    "plt.hist(char_lens, bins=50, color='skyblue', edgecolor='black')\n",
    "plt.xlabel('Character Length (excluding spaces)')\n",
    "plt.ylabel('Frequency')\n",
    "plt.title('Distribution of Abstract Character Lengths')\n",
    "plt.show()"
   ]
  },
  {
   "cell_type": "code",
   "execution_count": 20,
   "id": "571f98ce",
   "metadata": {},
   "outputs": [
    {
     "name": "stdout",
     "output_type": "stream",
     "text": [
      "9884 69\n"
     ]
    }
   ],
   "source": [
    "# remove instances with an abstract shorter than 300 characters\n",
    "\n",
    "df_repo = df_repo.with_columns(\n",
    "    pl.col(\"abstract\")\n",
    "    .str.len_chars()\n",
    "    .alias(\"abstract_length\")\n",
    ")\n",
    "\n",
    "df_repo = df_repo.filter(\n",
    "    pl.col(\"abstract_length\") >= 300\n",
    ")\n",
    "\n",
    "print(len(df_repo), len(df_pos))"
   ]
  },
  {
   "cell_type": "markdown",
   "id": "7457b822",
   "metadata": {},
   "source": [
    "# format repo titles in english"
   ]
  },
  {
   "cell_type": "code",
   "execution_count": 21,
   "id": "7cd6c223",
   "metadata": {},
   "outputs": [
    {
     "name": "stdout",
     "output_type": "stream",
     "text": [
      "9884 69\n"
     ]
    }
   ],
   "source": [
    "# re-label titles in english but text in spanish\n",
    "title_in_eng = 'Effects of cattle exclusion on the vegetation at a pink-footed shearwater (ardenna creatopus) colony on robinson crusoe island, chile'\n",
    "title_in_spa = normalize_title('EFECTOS DE LA EXCLUSIÓN DE GANADO VACUNO SOBRE LA VEGETACIÓN EN EL ÁREA OCUPADA POR UNA COLONIA DE FARDELA BLANCA (Ardenna creatopus) EN LA ISLA ROBINSON CRUSOE, CHILE')\n",
    "\n",
    "df_repo = df_repo.with_columns(\n",
    "    pl.when(pl.col('title') == title_in_eng)\n",
    "    .then(pl.lit(title_in_spa)) # pl.lit tells polars \"this is a literal string\", not a column name.\n",
    "    .otherwise(pl.col('title'))\n",
    "    .alias('title')\n",
    ")\n",
    "\n",
    "print(len(df_repo), len(df_pos))"
   ]
  },
  {
   "cell_type": "markdown",
   "id": "2bc3f343",
   "metadata": {},
   "source": [
    "# remove non-spanish titles in repo\n"
   ]
  },
  {
   "cell_type": "code",
   "execution_count": 22,
   "id": "e60482e3",
   "metadata": {},
   "outputs": [
    {
     "name": "stdout",
     "output_type": "stream",
     "text": [
      "articles in all languages: 9884\n",
      "articles in spanish: 6851\n"
     ]
    }
   ],
   "source": [
    "from fasttext.FastText import _FastText\n",
    "\n",
    "model_path = 'lid.176.ftz'\n",
    "model = _FastText(model_path=model_path)\n",
    "\n",
    "# function to detect languages\n",
    "\n",
    "def get_lang(text: str) -> str:\n",
    "    lang, _ = model.predict(text)\n",
    "    lang = lang[0].removeprefix('__label__')\n",
    "    # conf = conf[0]\n",
    "\n",
    "    return lang\n",
    "\n",
    "# detect languages\n",
    "\n",
    "df_repo_all_lang = df_repo.with_columns(\n",
    "    pl.col(\"title\")\n",
    "    .map_elements(get_lang, return_dtype=pl.Utf8)\n",
    "    .alias(\"language\")\n",
    ")\n",
    "\n",
    "# filter spanish only\n",
    "\n",
    "df_repo = df_repo_all_lang.filter(\n",
    "    pl.col('language') == 'es'\n",
    ")\n",
    "\n",
    "print(f'articles in all languages: {len(df_repo_all_lang)}\\narticles in spanish: {len(df_repo)}')\n",
    "\n",
    "# function to find exceptions in detection\n",
    "# def safe_detect(text):\n",
    "#     try:\n",
    "#         return get_lang(text)\n",
    "#     except Exception:\n",
    "#         print(\"This row throws an error:\", text)\n",
    "#         return \"error\""
   ]
  },
  {
   "cell_type": "markdown",
   "id": "e8aadfc3",
   "metadata": {},
   "source": [
    "# remove titles in pos with text in english\n"
   ]
  },
  {
   "cell_type": "code",
   "execution_count": 23,
   "id": "0b27b631",
   "metadata": {},
   "outputs": [
    {
     "data": {
      "text/plain": [
       "(6851, 68)"
      ]
     },
     "execution_count": 23,
     "metadata": {},
     "output_type": "execute_result"
    }
   ],
   "source": [
    "text_in_english = 'La liebre amenazada lepus flavigularis prefiere establecer sus sitios de alimentación y descanso en potreros con presencia de ganado'\n",
    "\n",
    "df_pos = df_pos.filter(\n",
    "    ~(pl.col(\"title\") == text_in_english)\n",
    ")\n",
    "\n",
    "len(df_repo), len(df_pos)"
   ]
  },
  {
   "cell_type": "markdown",
   "id": "5ba93d9e",
   "metadata": {},
   "source": [
    "# remove unwanted publication years"
   ]
  },
  {
   "cell_type": "code",
   "execution_count": 24,
   "id": "c7680887",
   "metadata": {},
   "outputs": [
    {
     "name": "stdout",
     "output_type": "stream",
     "text": [
      "5552 49\n",
      "shape: (1_299, 7)\n",
      "┌───────────────┬───────────────┬──────────────┬──────────────┬──────────┬──────────────┬──────────┐\n",
      "│ title         ┆ abstract      ┆ body         ┆ journal      ┆ pub_year ┆ abstract_len ┆ language │\n",
      "│ ---           ┆ ---           ┆ ---          ┆ ---          ┆ ---      ┆ gth          ┆ ---      │\n",
      "│ str           ┆ str           ┆ str          ┆ str          ┆ i64      ┆ ---          ┆ str      │\n",
      "│               ┆               ┆              ┆              ┆          ┆ u32          ┆          │\n",
      "╞═══════════════╪═══════════════╪══════════════╪══════════════╪══════════╪══════════════╪══════════╡\n",
      "│ Potencial de  ┆ Resumen En    ┆ En México,   ┆ Revista      ┆ 2019     ┆ 1575         ┆ es       │\n",
      "│ reforestación ┆ México, los   ┆ los bosques  ┆ mexicana de  ┆          ┆              ┆          │\n",
      "│ de …          ┆ bosques…      ┆ templad…     ┆ ciencias f…  ┆          ┆              ┆          │\n",
      "│ Una nueva     ┆ Resumen El    ┆ Hasta la     ┆ Revista de   ┆ 2020     ┆ 1614         ┆ es       │\n",
      "│ especie de    ┆ género        ┆ fecha se han ┆ biología     ┆          ┆              ┆          │\n",
      "│ liolaemus…    ┆ Liolaemus pr… ┆ descrito…    ┆ tropical     ┆          ┆              ┆          │\n",
      "│ Monitoreo de  ┆ Resumen El    ┆ El matorral  ┆ Revista      ┆ 2022     ┆ 1662         ┆ es       │\n",
      "│ la            ┆ matorral      ┆ espinoso     ┆ mexicana de  ┆          ┆              ┆          │\n",
      "│ supervivencia ┆ espinoso t…   ┆ tamaulipe…   ┆ ciencias f…  ┆          ┆              ┆          │\n",
      "│ …             ┆               ┆              ┆              ┆          ┆              ┆          │\n",
      "│ Conservación  ┆ Resumen Se    ┆ La región de ┆ Revista      ┆ 2022     ┆ 1559         ┆ es       │\n",
      "│ de la         ┆ analizaron    ┆ Maderas del  ┆ mexicana de  ┆          ┆              ┆          │\n",
      "│ cobertura v…  ┆ evidenci…     ┆ Carme…       ┆ ciencias f…  ┆          ┆              ┆          │\n",
      "│ Análisis      ┆ Resumen La    ┆ Los          ┆ Madera y     ┆ 2020     ┆ 1564         ┆ es       │\n",
      "│ comparativo   ┆ evaluación    ┆ ecosistemas  ┆ bosques      ┆          ┆              ┆          │\n",
      "│ de camas …    ┆ del comp…     ┆ de manglares ┆              ┆          ┆              ┆          │\n",
      "│               ┆               ┆ s…           ┆              ┆          ┆              ┆          │\n",
      "│ …             ┆ …             ┆ …            ┆ …            ┆ …        ┆ …            ┆ …        │\n",
      "│ Utilización   ┆ Se colectaron ┆ artículos    ┆ Revista      ┆ 2010     ┆ 1442         ┆ es       │\n",
      "│ de taxodium   ┆ núcleos de    ┆ utilización  ┆ mexicana de  ┆          ┆              ┆          │\n",
      "│ mucron…       ┆ creci…        ┆ de taxo…     ┆ ciencias f…  ┆          ┆              ┆          │\n",
      "│ Efecto de     ┆ Resumen Se    ┆ El interés   ┆ Revista      ┆ 2020     ┆ 1370         ┆ es       │\n",
      "│ pudrición por ┆ evaluó la     ┆ en           ┆ mexicana de  ┆          ┆              ┆          │\n",
      "│ hongos…       ┆ resistenc…    ┆ materiales   ┆ ciencias f…  ┆          ┆              ┆          │\n",
      "│               ┆               ┆ compu…       ┆              ┆          ┆              ┆          │\n",
      "│ Metabarcoding ┆ Resumen El    ┆ Desde el     ┆ Revista      ┆ 2023     ┆ 1016         ┆ es       │\n",
      "│ : una         ┆ papel de los  ┆ punto de     ┆ mexicana de  ┆          ┆              ┆          │\n",
      "│ herramienta…  ┆ peces …       ┆ vista        ┆ biodiversi…  ┆          ┆              ┆          │\n",
      "│               ┆               ┆ funcio…      ┆              ┆          ┆              ┆          │\n",
      "│ Diversidad de ┆ Resumen       ┆ Los insectos ┆ Revista de   ┆ 2024     ┆ 1575         ┆ es       │\n",
      "│ escarabajos   ┆ Introducción: ┆ de la        ┆ biología     ┆          ┆              ┆          │\n",
      "│ long…         ┆ El man…       ┆ familia Cer… ┆ tropical     ┆          ┆              ┆          │\n",
      "│ Effects of    ┆ Resumen       ┆ Among        ┆ Revista de   ┆ 2020     ┆ 1959         ┆ es       │\n",
      "│ shade on      ┆ Introducción: ┆ various      ┆ biología     ┆          ┆              ┆          │\n",
      "│ guinea gra…   ┆ El estr…      ┆ abiotic      ┆ tropical     ┆          ┆              ┆          │\n",
      "│               ┆               ┆ stresses…    ┆              ┆          ┆              ┆          │\n",
      "└───────────────┴───────────────┴──────────────┴──────────────┴──────────┴──────────────┴──────────┘\n"
     ]
    }
   ],
   "source": [
    "# remove years not screened in amano 2021\n",
    "\n",
    "# define the journal-to-year mapping\n",
    "\n",
    "journal_years = {\n",
    "    'Acta zoológica mexicana': [1984,1985,1986,1987,1988,1989,\n",
    "                                1990,1991,1992,1993,1994,1995,1996,1997,1998,1999,\n",
    "                                2000,2001,2002,2003,2004,2005,2006,2007,2008,2009,\n",
    "                                2010,2011,2012,2013,2014,2015,2016,2017,2018,2019],\n",
    "    \n",
    "    # 'Ardeola': [1954,1955,1956,1957,1958,1959,\n",
    "    #             1960,1961,1962,1963,1964,1965,1966,1967,1968,1969,\n",
    "    #             1970,1971,1972,1973,1974,1975,1976,1977,1978,1979,\n",
    "    #             1980,1981,1982,1983,1984,1985,1986,1987,1988,1989,\n",
    "    #             1990,1991,1992,1993,1994,1995,1996,1997,1998,1999,\n",
    "    #             2000,2001,2002,2003,2004,2005,2006,2007,2008,2009,\n",
    "    #             2010,2011,2012,2013,2014,2015,2016,2017,2018,2019],\n",
    "    \n",
    "    # 'Bioscriba': [2008,2009,\n",
    "    #               2010,2011,2012,2013,2014,2015,2016,2017],\n",
    "    \n",
    "    'Ecologia austral': [2002,2003,2004,2005,2006,2007,2008,2009,\n",
    "                          2010,2011,2012,2013,2014,2015,2016,2017,2018],\n",
    "    \n",
    "    'Ecología austral': [2001,2002,2003,2004,2005,2006,2007,2008,2009,\n",
    "                         2010,2011,2012,2013,2014,2015,2016,2017,2018,2019],\n",
    "    \n",
    "    'Ecología aplicada': [2002,2003,2004,2005,2006,2007,2008,2009,\n",
    "                          2010,2011,2012,2013,2014,2015,2016,2017,2018],\n",
    "    \n",
    "    'Galemys': [1997,1998,1999,\n",
    "                2000,2001,2002,2003,2004,2005,2006,2007,2008,2009,\n",
    "                2010,2011,2012,2013,2014,2015,2016,2017],\n",
    "    \n",
    "    'Huitzil': [2000,2001,2002,2003,2004,2005,2006,2007,2008,2009,\n",
    "                2010,2011,2012,2013,2014,2015,2016,2017,2018,2019],\n",
    "    \n",
    "    'Barbastella': [2012,2013,2014,2015,2016,2017,2018,2019],   # text mainly in english\n",
    "    \n",
    "    'Madera y bosques': [2005,2006,2007,2008,2009,\n",
    "                         2010,2011,2012,2013,2014,2015,2016,2017,2018,2019],\n",
    "    \n",
    "    'Mastozoología neotropical': [1994,1995,1996,1997,1998,1999,\n",
    "                                  2000,2001,2002,2003,2004,2005,2006,2007,2008,2009,\n",
    "                                  2010,2011,2012,2013,2014,2015,2016,2017,2018],\n",
    "    \n",
    "    'Quebracho': [2007,2008,2009,2010,2011,2012,2013,2014,2015,2016,2017,2018],\n",
    "    \n",
    "    'Quebracho (santiago del estero)': [2007,2008,2009,2010,2011,2012,2013,2014,2015,2016,2017,2018],\n",
    "    \n",
    "    'Revista chilena de historia natural': [1987,1988,1989,\n",
    "                                     1990,1991,1992,1993,1994,1995,1996,1997,1998,1999,\n",
    "                                     2000,2001,2002,2003,2004,2005,2006,2007,2008,2009,\n",
    "                                     2010,2011,2012,2013,2014,2015,2016,2017,2018,2019],\n",
    "    \n",
    "    'Revista de biología tropical': [1989,\n",
    "                                     1990,1991,1992,1993,1994,1995,1996,1997,1998,1999,\n",
    "                                     2000,2001,2002,2003,2004,2005,2006,2007,2008,2009,\n",
    "                                     2010,2011,2012,2013,2014,2015,2016,2017,2018,2019],\n",
    "    \n",
    "    'Revista mexicana de biodiversidad': [2005,2006,2007,2008,2009,2010,\n",
    "                                          2011,2012,2013,2014,2015,2016,2017,2018,2019],\n",
    "    \n",
    "    'Revista mexicana de ciencias forestales': [2011,2012,2013,2014,2015,2016,2017,2018],\n",
    "    \n",
    "    'Therya': [2010,2011,2012,2013,2014,2015,2016,2017,2018,2019]\n",
    "}\n",
    "\n",
    "# convert to df\n",
    "\n",
    "journal_years =  pl.DataFrame(data = {\n",
    "    \"journal\": journal_years.keys(),\n",
    "    \"pub_year\": journal_years.values()\n",
    "    })\n",
    "\n",
    "journal_years = journal_years.explode(\"pub_year\")\n",
    "\n",
    "# apply the filter dynamically\n",
    "\n",
    "df_pos = df_pos.join(journal_years, on=[\"pub_year\", \"journal\"], how='semi')\n",
    "\n",
    "df_repo_filtered = df_repo.join(journal_years, on=[\"pub_year\", \"journal\"], how='semi')\n",
    "\n",
    "print(len(df_repo_filtered), len(df_pos))\n",
    "\n",
    "filtered_df_repo = df_repo.filter(\n",
    "    ~pl.col('title')\n",
    "    .is_in(df_repo_filtered\n",
    "           .select('title')\n",
    "           .to_series())\n",
    ")\n",
    "\n",
    "print(filtered_df_repo)"
   ]
  },
  {
   "cell_type": "code",
   "execution_count": 25,
   "id": "67b2e51a",
   "metadata": {},
   "outputs": [
    {
     "name": "stdout",
     "output_type": "stream",
     "text": [
      "27\n",
      "14\n"
     ]
    },
    {
     "data": {
      "text/plain": [
       "['Ecologia austral']"
      ]
     },
     "execution_count": 25,
     "metadata": {},
     "output_type": "execute_result"
    }
   ],
   "source": [
    "# check number of of journals in each df\n",
    "\n",
    "import numpy as np \n",
    "\n",
    "print(len(df_repo['journal'].unique()))\n",
    "print(len(df_pos['journal'].unique()))\n",
    "\n",
    "# check journals in repo\n",
    "# sorted(list(df_repo['journal'].unique()))\n",
    "\n",
    "# check journal name differences \n",
    "\n",
    "not_in_repo = df_pos.filter(\n",
    "    ~pl.col('journal')\n",
    "    .is_in(df_repo\n",
    "           .select('journal')\n",
    "           .to_series())\n",
    ")\n",
    "\n",
    "sorted(list(not_in_repo['journal']))"
   ]
  },
  {
   "cell_type": "markdown",
   "id": "ccaede3b",
   "metadata": {},
   "source": [
    "# similarity between repo and pos titles"
   ]
  },
  {
   "cell_type": "code",
   "execution_count": 26,
   "id": "792f7480",
   "metadata": {},
   "outputs": [
    {
     "name": "stdout",
     "output_type": "stream",
     "text": [
      "5552 49\n",
      "shape: (3, 2)\n",
      "┌───────────────────┬───────┐\n",
      "│ similar_instances ┆ count │\n",
      "│ ---               ┆ ---   │\n",
      "│ u32               ┆ u32   │\n",
      "╞═══════════════════╪═══════╡\n",
      "│ 0                 ┆ 5     │\n",
      "│ 1                 ┆ 39    │\n",
      "│ 2                 ┆ 5     │\n",
      "└───────────────────┴───────┘\n"
     ]
    }
   ],
   "source": [
    "from Levenshtein import ratio\n",
    "\n",
    "repo_title = df_repo_filtered[\"title\"]\n",
    "pos_title = df_pos[\"title\"]\n",
    "print(len(repo_title), len(pos_title))\n",
    "\n",
    "# batch positive titles to reduce memory workload\n",
    "\n",
    "BATCH_SIZE = 100\n",
    "\n",
    "for i in range(0, len(pos_title), BATCH_SIZE):\n",
    "    collect_similarity = {}\n",
    "\n",
    "    # check similarity\n",
    "    for title in pos_title[i:i+BATCH_SIZE]:\n",
    "        collect_similarity[title] = [\n",
    "            i for i, rt in enumerate(repo_title) \n",
    "            if ratio(title, rt) > 0.95\n",
    "            ]\n",
    "            \n",
    "    # save as df\n",
    "    df_ratio = pl.DataFrame({\n",
    "        'title': list(collect_similarity.keys()), \n",
    "        'similarity': list(collect_similarity.values())\n",
    "        })\n",
    "    \n",
    "# get the lenght of similarity lists\n",
    "\n",
    "df_ratio = df_ratio.with_columns(similar_instances=pl.col(\"similarity\").list.len())\n",
    "print(df_ratio['similar_instances'].value_counts())\n",
    "\n",
    "# flatten similarity list\n",
    "\n",
    "df_ratio = df_ratio.explode('similarity')"
   ]
  },
  {
   "cell_type": "code",
   "execution_count": 27,
   "id": "5ec066cc",
   "metadata": {},
   "outputs": [],
   "source": [
    "# df_pos.filter(pl.col('journal')==\"Galemys\")"
   ]
  },
  {
   "cell_type": "code",
   "execution_count": 28,
   "id": "3238e5b2",
   "metadata": {},
   "outputs": [
    {
     "name": "stdout",
     "output_type": "stream",
     "text": [
      "4357\n",
      "Match found: Recuperación de la colonia de miniopterus schreibersii de la cueva de cueva de ágreda (soria)\n",
      "4976\n",
      "Match found: Recuperación de la colonia de miniopterus schreibersii de la cueva de cueva de ágreda (soria)\n",
      "1937\n",
      "Match found: Ocupación de cajas-refugio por murciélagos en navarra\n",
      "3371\n",
      "Match found: Pasos agrícolas inferiores de carreteras: su importancia para los murciélagos como refugio y lugar para cruzar la vía\n",
      "415\n",
      "Match found: Conservación de colonias reproductoras de murciélagos cavernícolas mediante refugios artificiales\n",
      "1133\n",
      "Match found: Supervivencia de guanacos (lama guanicoe) reintroducidos con y sin período de preadapatación en el parque nacional quebrada del condorito, córdoba, argentina\n",
      "3774\n",
      "Match found: El uso de los parques urbanos con vegetación por murciélagos insectívoros en san josé, costa rica\n",
      "4123\n",
      "Match found: Erradicación de especies invasoras: ciencia, actitud y entendimiento el castor en tierra del fuego\n",
      "5294\n",
      "Match found: Abundancia poblacional y manejo del jabalí (sus scrofa): una revisión global para abordar su gestión en la argentina\n",
      "775\n",
      "Match found: Manejo de caballos cimarrones: la situación en la argentina\n",
      "5328\n",
      "Match found: Mortalidad de mamíferos y medidas de mitigación en canales de riego del pedemonte de yungas de la alta cuenca del río bermejo, argentina\n",
      "4359\n",
      "Match found: Manejo del conflicto entre carnívoros y ganadería en patagonia utilizando perros mestizos protectores de ganado\n",
      "912\n",
      "Match found: Aplicación de la ley para el combate del tráfico ilegal de vida silvestre en méxico: el caso de charco cercado\n",
      "4442\n",
      "Match found: Radioseguimiento post recuperación de erizos europeos (erinaceus europaeus linnaeus, 1758) en el parque natural de la sierra de collserola (barcelona)\n",
      "1764\n",
      "Match found: Ocupación de cajas-refugio por murciélagos en el parque de salburua (vitoria-gasteiz)\n",
      "899\n",
      "Match found: Dispersión, supervivencia y reproducción de la pava aliblanca penelope albipennis taczanowski, 1877 (cracidae) reintroducida a su hábitat natural en perú\n",
      "None\n",
      "4867\n",
      "Match found: Mortalidad embrionaria y éxito de eclosión en huevos de trachemys scripta (testudines: emydidae) incubados en un área natural protegida\n",
      "2679\n",
      "Match found: Rescate y retorno a estado salvaje de un oso pardo es asturias (españa)\n",
      "4362\n",
      "Match found: Resultados de una traslocación de osos pardos de eslovenia a los pirineos centrales\n",
      "2023\n",
      "Match found: Primeros resultados sobre la alimentación suplementaria de linces ibéricos en libertad mediante el uso de corrales\n",
      "2890\n",
      "Match found: Primeros resultados sobre la alimentación suplementaria de linces ibéricos en libertad mediante el uso de corrales\n",
      "700\n",
      "Match found: Tasa de supervivencia del gato montés felis silvestris (schreber, 1777), criado encautividad y reintroducido en la naturalezaresultados preliminares\n",
      "3443\n",
      "Match found: Tasa de supervivencia del gato montés felis silvestris (schreber, 1777), criado en cautividad y reintroducido en la naturaleza resultados preliminares\n",
      "707\n",
      "Match found: Ocupación y reproducción del lirón gris (glis glis linnaeus, 1766) en nidales artificiales en bosques caducifolios catalanes\n",
      "1425\n",
      "Match found: Ocupación y reproducción del lirón gris (glis glis linnaeus, 1766) en nidales artificialesen bosques caducifolios catalanes\n",
      "45\n",
      "Match found: Supervivencia, dispersión y selecciónde recursos de corzos capreolus capreolus (linnaeus, 1758) reintroducidos en un hábitatmediterráneo\n",
      "801\n",
      "Match found: Supervivencia, dispersión y selección de recursos de corzos capreolus capreolus (linnaeus, 1758) reintroducidos en un hábitat mediterráneo\n",
      "253\n",
      "Match found: Programa de conservación del borrego cimarrón (ovis canadensis weemsi) en baja california sur, méxico\n",
      "3776\n",
      "Match found: Nidos artificiales en plantaciones de pinus radiata en el sur de chile: ¿una herramienta para mitigar impactos ambientales negativos?\n",
      "622\n",
      "Match found: Efectos del fuego sobre un bosquecillo de polylepis australis (rosaceae) en las montañas de córdoba, argentina\n",
      "2963\n",
      "Match found: El fuego favorece la invasión de teline monspessulana (fabaceae) al aumentar su germinación\n",
      "3806\n",
      "Match found: El rol de turdusfalcklandii (aves: passeriforme) como dispersor de plantas invasoras en el archipiélago de juan fernández\n",
      "4132\n",
      "Match found: Evaluación de la efectividad de las áreas protegidas para contener procesos de cambio en el uso del suelo y la vegetación ¿un índice es suficiente?\n",
      "None\n",
      "1376\n",
      "Match found: Los peces como indicador de restauración de áreas de manglar en la costa norte de yucatán\n",
      "5296\n",
      "Match found: La conservación de mamíferos medianos en dos reservas ecológicas privadas de veracruz, méxico\n",
      "None\n",
      "1854\n",
      "Match found: Efecto del pastoreo sobre una comunidad de roedores nocturnos en pastizales del valle de perote, veracruz\n",
      "4305\n",
      "Match found: Potencial reproductivo de stenocerus queretaroensis (cactaceae) de san josé de cosalima, zacatecas\n",
      "4210\n",
      "Match found: Manejo forestal comunitario en el sur de méxico: ¿es una práctica sustentable para el mantenimiento de los ensambles de escarabajos?\n",
      "2557\n",
      "Match found: Roedores y murciélagos en espacios verdes en san cristóbal de las casas, chiapas, méxico\n",
      "4409\n",
      "Match found: Estructuras artificiales para la anidación y su relación con el éxito reproductivo del gavilán pescador y del tecolote llanero durante ocho temporadas reproductivas en el estero la pinta, puerto peñasco, sonora, méxico\n",
      "1869\n",
      "Match found: Efecto de sustrato y densidad en la calidad de plántulas de cedro, caoba y roble\n",
      "2979\n",
      "Match found: Efecto de la restauración ecológica post-incendio en la diversidad arbórea del parque ecológico chipinque, méxico\n",
      "1811\n",
      "Match found: Germinación y supervivencia de dos especies de acahual de selva baja para restaurar dunas costeras\n",
      "3336\n",
      "Match found: Propagación y micorrización de plantas nativas con potencial para restauración de suelos\n",
      "4601\n",
      "Match found: Regeneración inducida de pinus pseudostrobus lindl, bajo diferentes densidades del dosel y preparación de sitio\n",
      "1633\n",
      "Match found: Supervivencia de pinus leiophylla schiede ex schltdl et cham en campo mediante la aplicación de espuma fenólica hidratada\n",
      "None\n",
      "3200\n",
      "Match found: Influencia del rolado selectivo de baja intensidad (rbi) sobre las comunidades de aves de bosques del chaco occidental\n",
      "None\n",
      "4294\n",
      "Match found: Efectos de diferentes intensidades y métodos de corta sobre la regeneración del bosque alto del chaco húmedo\n",
      "2736\n",
      "Match found: Reacción del estrato arbustivo a diferentes intervenciones y presencia de ganado vacuno, en el chaco semiárido\n"
     ]
    },
    {
     "data": {
      "text/plain": [
       "49"
      ]
     },
     "execution_count": 28,
     "metadata": {},
     "output_type": "execute_result"
    }
   ],
   "source": [
    "# find similar instances across dfs\n",
    "\n",
    "similarity_data_list = []\n",
    "\n",
    "# loop through df_ratio \n",
    "for row_master in df_ratio.rows(named=True):\n",
    "    similarity_master = row_master['similarity']\n",
    "    title_master = row_master['title']\n",
    "    \n",
    "    print(similarity_master)\n",
    "\n",
    "    # loop through repo titles with index\n",
    "    for i, row_repo in enumerate(df_repo_filtered['title']):\n",
    "        \n",
    "        if i == similarity_master:\n",
    "            print(f\"Match found: {row_repo}\")\n",
    "            df_repo_filtered.with_columns(pos_similarity=similarity_master)\n",
    "            \n",
    "            similarity_data = {\n",
    "                'position_in_repo':i,\n",
    "                'similarity':similarity_master,\n",
    "                'name_in_repo':row_repo,\n",
    "                'name_in_pos':title_master\n",
    "            }\n",
    "            \n",
    "            similarity_data_list.append(similarity_data)\n",
    "\n",
    "# create dataframe\n",
    "similarity_data_df = pl.DataFrame(similarity_data_list)\n",
    "len(similarity_data_df)"
   ]
  },
  {
   "cell_type": "code",
   "execution_count": 29,
   "id": "e161efaf",
   "metadata": {},
   "outputs": [
    {
     "name": "stdout",
     "output_type": "stream",
     "text": [
      "shape: (4, 4)\n",
      "┌──────────────────┬────────────┬─────────────────────────────────┬────────────────────────────────┐\n",
      "│ position_in_repo ┆ similarity ┆ name_in_repo                    ┆ name_in_pos                    │\n",
      "│ ---              ┆ ---        ┆ ---                             ┆ ---                            │\n",
      "│ i64              ┆ i64        ┆ str                             ┆ str                            │\n",
      "╞══════════════════╪════════════╪═════════════════════════════════╪════════════════════════════════╡\n",
      "│ 4357             ┆ 4357       ┆ Recuperación de la colonia de … ┆ Recuperación de la colonia de  │\n",
      "│                  ┆            ┆                                 ┆ …                              │\n",
      "│ 4976             ┆ 4976       ┆ Recuperación de la colonia de … ┆ Recuperación de la colonia de  │\n",
      "│                  ┆            ┆                                 ┆ …                              │\n",
      "│ 2023             ┆ 2023       ┆ Primeros resultados sobre la a… ┆ Primeros resultados sobre la   │\n",
      "│                  ┆            ┆                                 ┆ a…                             │\n",
      "│ 2890             ┆ 2890       ┆ Primeros resultados sobre la a… ┆ Primeros resultados sobre la   │\n",
      "│                  ┆            ┆                                 ┆ a…                             │\n",
      "└──────────────────┴────────────┴─────────────────────────────────┴────────────────────────────────┘\n"
     ]
    },
    {
     "name": "stderr",
     "output_type": "stream",
     "text": [
      "/var/folders/dz/szfgpm5s0tn_frclv0gl7m2c0000gr/T/ipykernel_39157/984420911.py:9: DeprecationWarning: `pl.count()` is deprecated. Please use `pl.len()` instead.\n",
      "  .agg(pl.count().alias(\"count\"))\n"
     ]
    },
    {
     "data": {
      "text/plain": [
       "47"
      ]
     },
     "execution_count": 29,
     "metadata": {},
     "output_type": "execute_result"
    }
   ],
   "source": [
    "# get unique names\n",
    "\n",
    "# save duplicated titles in df \n",
    "\n",
    "matches_duplicates = similarity_data_df.filter(\n",
    "    pl.col(\"name_in_repo\").is_in(\n",
    "        similarity_data_df.select(\"name_in_repo\")\n",
    "          .group_by(\"name_in_repo\")\n",
    "          .agg(pl.count().alias(\"count\"))\n",
    "          .filter(pl.col(\"count\") > 1)\n",
    "          .get_column(\"name_in_repo\")\n",
    "    )\n",
    ")\n",
    "\n",
    "print(matches_duplicates)\n",
    "\n",
    "# remove duplicates\n",
    "\n",
    "similarity_data_df = similarity_data_df.unique(subset=\"name_in_repo\")\n",
    "len(similarity_data_df)"
   ]
  },
  {
   "cell_type": "code",
   "execution_count": 30,
   "id": "f55a01ac",
   "metadata": {},
   "outputs": [
    {
     "name": "stdout",
     "output_type": "stream",
     "text": [
      "5\n"
     ]
    },
    {
     "data": {
      "text/plain": [
       "['Almacenamiento en frío del esperma de la trucha endémica oncorhynchus mykiss nelsoni: una estrategia para la conservación a corto plazo del germoplasma de especies endémicas',\n",
       " 'Germinación de tres especies de fabaceae de interés para la restauración ecológica en el monte austral, patagonia, argentina',\n",
       " 'Incubación artificial de huevo del pavón cornudo oreophasis derbianus (aves: cracidae)',\n",
       " 'Murciélagos (mammalia: chiroptera) en áreas naturales y reforestadas en rancho alegre, paraná, brasil',\n",
       " 'Éxito o fracaso: el papel de la restauración ecológica en la recuperación de la diversidad y la función de los escarabajos del estiércol en una selva tropical']"
      ]
     },
     "execution_count": 30,
     "metadata": {},
     "output_type": "execute_result"
    }
   ],
   "source": [
    "# documents in pos but not in repo\n",
    "\n",
    "filtered_df = df_pos.filter(\n",
    "    ~pl.col('title')\n",
    "    .is_in(similarity_data_df\n",
    "           .select('name_in_pos')\n",
    "           .to_series())\n",
    ")\n",
    "print(len(filtered_df['title']))\n",
    "sorted(list(filtered_df['title']))\n",
    "\n",
    "# please read -> all these titles have the main text in English\n",
    "\n",
    "# in English: Almacenamiento en frío del esperma de la trucha endémica Oncorhynchus mykiss nelsoni: una estrategia para la conservación a corto plazo del germoplasma de especies endémicas\n",
    "# in English: Germinación de tres especies de Fabaceae de interés para la restauración ecológica en el Monte Austral, Patagonia, Argentina.\n",
    "# in English: Incubación Artificial de huevo del Pavón Cornudo  Oreophasis derbianus (Aves: Cracidae) \n",
    "# in English: Murciélagos (Mammalia: Chiroptera) en áreas naturales y reforestadas en Rancho Alegre, Paraná, Brasil\n",
    "# in English: Éxito o fracaso: el papel de la restauración ecológica en la recuperación de la diversidad y la función de los escarabajos del estiércol en una selva tropical"
   ]
  },
  {
   "cell_type": "markdown",
   "id": "dfb017b3",
   "metadata": {},
   "source": [
    "# join and label data"
   ]
  },
  {
   "cell_type": "code",
   "execution_count": 32,
   "id": "b956ef84",
   "metadata": {},
   "outputs": [
    {
     "name": "stdout",
     "output_type": "stream",
     "text": [
      "5550\n",
      "5550\n",
      "shape: (2, 2)\n",
      "┌───────┬───────┐\n",
      "│ label ┆ count │\n",
      "│ ---   ┆ ---   │\n",
      "│ i32   ┆ u32   │\n",
      "╞═══════╪═══════╡\n",
      "│ 1     ┆ 44    │\n",
      "│ 0     ┆ 5506  │\n",
      "└───────┴───────┘\n"
     ]
    },
    {
     "data": {
      "text/html": [
       "<div><style>\n",
       ".dataframe > thead > tr,\n",
       ".dataframe > tbody > tr {\n",
       "  text-align: right;\n",
       "  white-space: pre-wrap;\n",
       "}\n",
       "</style>\n",
       "<small>shape: (5_550, 8)</small><table border=\"1\" class=\"dataframe\"><thead><tr><th>title</th><th>abstract</th><th>body</th><th>journal</th><th>pub_year</th><th>abstract_length</th><th>language</th><th>label</th></tr><tr><td>str</td><td>str</td><td>str</td><td>str</td><td>i64</td><td>u32</td><td>str</td><td>i32</td></tr></thead><tbody><tr><td>&quot;Dendrocronopirología: análisis…</td><td>&quot;El régimen de incendios es una…</td><td>&quot;nota de investigación&nbsp;&nbsp;dendroc…</td><td>&quot;Revista mexicana de ciencias f…</td><td>2014</td><td>1326</td><td>&quot;es&quot;</td><td>0</td></tr><tr><td>&quot;Estudio de flujos verticales d…</td><td>&quot;En este estudio se utilizaron …</td><td>&quot;giovanni daneri centro de cien…</td><td>&quot;Revista chilena de historia na…</td><td>2001</td><td>1349</td><td>&quot;es&quot;</td><td>0</td></tr><tr><td>&quot;Diagnosis prospectiva sobre la…</td><td>&quot;Recientemente, la laguna Bacal…</td><td>&quot;ecología&nbsp;&nbsp;diagnosis prospectiv…</td><td>&quot;Revista mexicana de biodiversi…</td><td>2013</td><td>1449</td><td>&quot;es&quot;</td><td>0</td></tr><tr><td>&quot;Análisis de subpoblaciones cin…</td><td>&quot;Resumen La valoración subjetiv…</td><td>&quot;Semen analysis is usually the …</td><td>&quot;Revista de biología tropical&quot;</td><td>2019</td><td>1527</td><td>&quot;es&quot;</td><td>0</td></tr><tr><td>&quot;Caracterización ecohidrológica…</td><td>&quot;Los Humedales Alto Andinos (HA…</td><td>&quot;introducción. los humedales al…</td><td>&quot;Ecología aplicada&quot;</td><td>2015</td><td>2238</td><td>&quot;es&quot;</td><td>0</td></tr><tr><td>&hellip;</td><td>&hellip;</td><td>&hellip;</td><td>&hellip;</td><td>&hellip;</td><td>&hellip;</td><td>&hellip;</td><td>&hellip;</td></tr><tr><td>&quot;Albinismo platinado en liomys …</td><td>&quot;El albinismo es una anormalida…</td><td>&quot;artículos&nbsp;&nbsp;albinismo platinado…</td><td>&quot;Therya&quot;</td><td>2013</td><td>361</td><td>&quot;es&quot;</td><td>0</td></tr><tr><td>&quot;Biología reproductiva de aniso…</td><td>&quot;Anisotremus interruptus es una…</td><td>&quot;Los peces de la familia Haemul…</td><td>&quot;Revista de biología tropical&quot;</td><td>2012</td><td>1418</td><td>&quot;es&quot;</td><td>0</td></tr><tr><td>&quot;Reconstrucción de algunas sequ…</td><td>&quot;Resumen: El impacto histórico …</td><td>&quot;Conocer la dinámica climatológ…</td><td>&quot;Revista mexicana de ciencias f…</td><td>2018</td><td>1603</td><td>&quot;es&quot;</td><td>0</td></tr><tr><td>&quot;Diversidad de escarabajos copr…</td><td>&quot;La expansión de la frontera ag…</td><td>&quot;introducción la agricultura tr…</td><td>&quot;Ecología austral&quot;</td><td>2016</td><td>1959</td><td>&quot;es&quot;</td><td>0</td></tr><tr><td>&quot;Distribución y abundancia de m…</td><td>&quot;Se estudió la distribución y a…</td><td>&quot;artículos originales&nbsp;&nbsp;distribu…</td><td>&quot;Acta zoológica mexicana&quot;</td><td>2009</td><td>951</td><td>&quot;es&quot;</td><td>0</td></tr></tbody></table></div>"
      ],
      "text/plain": [
       "shape: (5_550, 8)\n",
       "┌─────────────┬─────────────┬─────────────┬─────────────┬──────────┬────────────┬──────────┬───────┐\n",
       "│ title       ┆ abstract    ┆ body        ┆ journal     ┆ pub_year ┆ abstract_l ┆ language ┆ label │\n",
       "│ ---         ┆ ---         ┆ ---         ┆ ---         ┆ ---      ┆ ength      ┆ ---      ┆ ---   │\n",
       "│ str         ┆ str         ┆ str         ┆ str         ┆ i64      ┆ ---        ┆ str      ┆ i32   │\n",
       "│             ┆             ┆             ┆             ┆          ┆ u32        ┆          ┆       │\n",
       "╞═════════════╪═════════════╪═════════════╪═════════════╪══════════╪════════════╪══════════╪═══════╡\n",
       "│ Dendrocrono ┆ El régimen  ┆ nota de inv ┆ Revista     ┆ 2014     ┆ 1326       ┆ es       ┆ 0     │\n",
       "│ pirología:  ┆ de          ┆ estigación  ┆ mexicana de ┆          ┆            ┆          ┆       │\n",
       "│ análisis…   ┆ incendios   ┆ dendroc…    ┆ ciencias f… ┆          ┆            ┆          ┆       │\n",
       "│             ┆ es una…     ┆             ┆             ┆          ┆            ┆          ┆       │\n",
       "│ Estudio de  ┆ En este     ┆ giovanni    ┆ Revista     ┆ 2001     ┆ 1349       ┆ es       ┆ 0     │\n",
       "│ flujos      ┆ estudio se  ┆ daneri      ┆ chilena de  ┆          ┆            ┆          ┆       │\n",
       "│ verticales  ┆ utilizaron  ┆ centro de   ┆ historia    ┆          ┆            ┆          ┆       │\n",
       "│ d…          ┆ …           ┆ cien…       ┆ na…         ┆          ┆            ┆          ┆       │\n",
       "│ Diagnosis   ┆ Recientemen ┆ ecología    ┆ Revista     ┆ 2013     ┆ 1449       ┆ es       ┆ 0     │\n",
       "│ prospectiva ┆ te, la      ┆ diagnosis   ┆ mexicana de ┆          ┆            ┆          ┆       │\n",
       "│ sobre la…   ┆ laguna      ┆ prospectiv… ┆ biodiversi… ┆          ┆            ┆          ┆       │\n",
       "│             ┆ Bacal…      ┆             ┆             ┆          ┆            ┆          ┆       │\n",
       "│ Análisis de ┆ Resumen La  ┆ Semen       ┆ Revista de  ┆ 2019     ┆ 1527       ┆ es       ┆ 0     │\n",
       "│ subpoblacio ┆ valoración  ┆ analysis is ┆ biología    ┆          ┆            ┆          ┆       │\n",
       "│ nes cin…    ┆ subjetiv…   ┆ usually the ┆ tropical    ┆          ┆            ┆          ┆       │\n",
       "│             ┆             ┆ …           ┆             ┆          ┆            ┆          ┆       │\n",
       "│ Caracteriza ┆ Los         ┆ introducció ┆ Ecología    ┆ 2015     ┆ 2238       ┆ es       ┆ 0     │\n",
       "│ ción ecohid ┆ Humedales   ┆ n. los      ┆ aplicada    ┆          ┆            ┆          ┆       │\n",
       "│ rológica…   ┆ Alto        ┆ humedales   ┆             ┆          ┆            ┆          ┆       │\n",
       "│             ┆ Andinos     ┆ al…         ┆             ┆          ┆            ┆          ┆       │\n",
       "│             ┆ (HA…        ┆             ┆             ┆          ┆            ┆          ┆       │\n",
       "│ …           ┆ …           ┆ …           ┆ …           ┆ …        ┆ …          ┆ …        ┆ …     │\n",
       "│ Albinismo   ┆ El          ┆ artículos   ┆ Therya      ┆ 2013     ┆ 361        ┆ es       ┆ 0     │\n",
       "│ platinado   ┆ albinismo   ┆ albinismo   ┆             ┆          ┆            ┆          ┆       │\n",
       "│ en liomys … ┆ es una      ┆ platinado…  ┆             ┆          ┆            ┆          ┆       │\n",
       "│             ┆ anormalida… ┆             ┆             ┆          ┆            ┆          ┆       │\n",
       "│ Biología    ┆ Anisotremus ┆ Los peces   ┆ Revista de  ┆ 2012     ┆ 1418       ┆ es       ┆ 0     │\n",
       "│ reproductiv ┆ interruptus ┆ de la       ┆ biología    ┆          ┆            ┆          ┆       │\n",
       "│ a de aniso… ┆ es una…     ┆ familia     ┆ tropical    ┆          ┆            ┆          ┆       │\n",
       "│             ┆             ┆ Haemul…     ┆             ┆          ┆            ┆          ┆       │\n",
       "│ Reconstrucc ┆ Resumen: El ┆ Conocer la  ┆ Revista     ┆ 2018     ┆ 1603       ┆ es       ┆ 0     │\n",
       "│ ión de      ┆ impacto     ┆ dinámica    ┆ mexicana de ┆          ┆            ┆          ┆       │\n",
       "│ algunas     ┆ histórico … ┆ climatológ… ┆ ciencias f… ┆          ┆            ┆          ┆       │\n",
       "│ sequ…       ┆             ┆             ┆             ┆          ┆            ┆          ┆       │\n",
       "│ Diversidad  ┆ La          ┆ introducció ┆ Ecología    ┆ 2016     ┆ 1959       ┆ es       ┆ 0     │\n",
       "│ de          ┆ expansión   ┆ n la        ┆ austral     ┆          ┆            ┆          ┆       │\n",
       "│ escarabajos ┆ de la       ┆ agricultura ┆             ┆          ┆            ┆          ┆       │\n",
       "│ copr…       ┆ frontera    ┆ tr…         ┆             ┆          ┆            ┆          ┆       │\n",
       "│             ┆ ag…         ┆             ┆             ┆          ┆            ┆          ┆       │\n",
       "│ Distribució ┆ Se estudió  ┆ artículos   ┆ Acta        ┆ 2009     ┆ 951        ┆ es       ┆ 0     │\n",
       "│ n y         ┆ la distribu ┆ originales  ┆ zoológica   ┆          ┆            ┆          ┆       │\n",
       "│ abundancia  ┆ ción y a…   ┆ distribu…   ┆ mexicana    ┆          ┆            ┆          ┆       │\n",
       "│ de m…       ┆             ┆             ┆             ┆          ┆            ┆          ┆       │\n",
       "└─────────────┴─────────────┴─────────────┴─────────────┴──────────┴────────────┴──────────┴───────┘"
      ]
     },
     "execution_count": 32,
     "metadata": {},
     "output_type": "execute_result"
    }
   ],
   "source": [
    "# subset positive instances in repo\n",
    "\n",
    "pos = similarity_data_df.unique(subset=\"name_in_pos\")\n",
    "\n",
    "# only include pos instances that are in repo\n",
    "# then label instances\n",
    "\n",
    "df_master = df_repo_filtered.with_columns(\n",
    "    pl.when(\n",
    "        pl.col(\"title\").is_in(pos[\"name_in_repo\"])\n",
    "    )\n",
    "    .then(1)\n",
    "    .otherwise(0)\n",
    "    .alias(\"label\")\n",
    ")\n",
    "\n",
    "# drop duplicates, nulls\n",
    "\n",
    "df_master = df_master.unique(subset=\"title\")\n",
    "print(len(df_master))\n",
    "\n",
    "df_master = df_master.drop_nulls(subset=[\"abstract\",\"title\",\"journal\"])\n",
    "\n",
    "print(len(df_master))\n",
    "print(df_master[\"label\"].value_counts())\n",
    "df_master"
   ]
  },
  {
   "cell_type": "code",
   "execution_count": null,
   "id": "ab5fd717",
   "metadata": {},
   "outputs": [],
   "source": [
    "# save to disk \n",
    "\n",
    "# df_master.write_csv('../data/v2/pos_neg.csv')"
   ]
  },
  {
   "cell_type": "code",
   "execution_count": null,
   "id": "367999a8",
   "metadata": {},
   "outputs": [],
   "source": [
    "# df_master.filter(pl.col('journal')==\"Galemys\").group_by('label').agg(pl.count())\n",
    "# galemys = df_master.filter(pl.col(\"journal\")=='Galemys')\n",
    "# galemys\n",
    "\n",
    "# galemys.write_csv('../data/v2/galemys.csv')"
   ]
  }
 ],
 "metadata": {
  "celltoolbar": "Raw Cell Format",
  "kernelspec": {
   "display_name": ".venv",
   "language": "python",
   "name": "python3"
  },
  "language_info": {
   "codemirror_mode": {
    "name": "ipython",
    "version": 3
   },
   "file_extension": ".py",
   "mimetype": "text/x-python",
   "name": "python",
   "nbconvert_exporter": "python",
   "pygments_lexer": "ipython3",
   "version": "3.11.3"
  }
 },
 "nbformat": 4,
 "nbformat_minor": 5
}
