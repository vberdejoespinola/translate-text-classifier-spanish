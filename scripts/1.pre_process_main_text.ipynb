{
 "cells": [
  {
   "cell_type": "code",
   "execution_count": null,
   "id": "5d8ae16b",
   "metadata": {},
   "outputs": [],
   "source": [
    "# September 2023\n",
    "# Data exploration and cleaning\n",
    "# Violeta Berdejo-Espinola & Ákos Hájas"
   ]
  },
  {
   "cell_type": "code",
   "execution_count": null,
   "id": "d90a222b",
   "metadata": {},
   "outputs": [],
   "source": [
    "%pip install levenshtein pandas"
   ]
  },
  {
   "cell_type": "code",
   "execution_count": null,
   "id": "362bbf35",
   "metadata": {},
   "outputs": [],
   "source": [
    "import re\n",
    "import os\n",
    "import pandas as pd\n",
    "from random import sample\n",
    "from Levenshtein import ratio # string similarity metric that measures the difference between two sequences\n",
    "os.getcwd()"
   ]
  },
  {
   "cell_type": "code",
   "execution_count": null,
   "id": "dfe1d4c3",
   "metadata": {},
   "outputs": [],
   "source": [
    "pd.set_option(\"display.max_rows\", 150)\n",
    "\n",
    "df_repo = pd.read_csv(\n",
    "    \"../datasets/from_repo/majom_september_pos_added.csv.gz\",\n",
    "    header=None,\n",
    "    index_col=0,\n",
    "    names=[\n",
    "        \"id\",\n",
    "        \"title_spa\",\n",
    "        \"journal_name\",\n",
    "        \"pub_year\",\n",
    "        \"country\",\n",
    "        \"abstract_eng\",\n",
    "        \"main_text_eng\",\n",
    "        \"ci_eng\",\n",
    "        \"abstract_spa\",\n",
    "        \"main_text_spa\",\n",
    "        \"ci_spa\",\n",
    "    ],\n",
    ")\n",
    "\n",
    "df_pos = pd.read_csv(\n",
    "    \"../datasets/from_translate/translatE_spanish_positives_71.csv\", \n",
    "    encoding=\"utf-8\",\n",
    "    names=[\n",
    "        \"title_spa\",\n",
    "        'Publication_type',\n",
    "        \"journal_name\",\n",
    "        \"abstract_spa\",\n",
    "        \"label\"\n",
    "    ],\n",
    "    skiprows=1\n",
    ")\n",
    "\n",
    "df_pos = df_pos.drop([\"Publication_type\"], axis=1)\n",
    "\n",
    "print(len(df_repo), len(df_pos))"
   ]
  },
  {
   "cell_type": "markdown",
   "id": "f616921a",
   "metadata": {},
   "source": [
    "# clean data"
   ]
  },
  {
   "cell_type": "code",
   "execution_count": null,
   "id": "14fcc5db",
   "metadata": {
    "scrolled": true
   },
   "outputs": [],
   "source": [
    "# remove unwanted documents in repo corpus\n",
    "\n",
    "bad_title = df_repo[\"title_spa\"].str.contains(\"In Memoriam|Editorial|Fe de erratas|FE DE ERRATA|ERRATA|aniversario|ARTÍCULO RETRACTADO\")\n",
    "bad_body = df_repo[\"main_text_spa\"].str.contains(\"Texto completo disponible sólo en PDF|Full text available only in PDF format Texto completo disponible sólo en PDF\")\n",
    "             \n",
    "df_repo = df_repo.dropna(subset=[\"title_spa\", \"abstract_spa\", \"main_text_spa\", \"journal_name\"])\n",
    "df_repo = df_repo[~bad_title | ~bad_body]\n",
    "\n",
    "print(f\"duplicated titles: {df_repo.title_spa.duplicated().sum()}\")\n",
    "print(f\"duplicated indeces: {df_repo.index.has_duplicates}\")\n",
    "print(len(df_repo), len(df_pos))"
   ]
  },
  {
   "cell_type": "code",
   "execution_count": null,
   "id": "3605200b",
   "metadata": {},
   "outputs": [],
   "source": [
    "# normalize titles and journal name in repo and pos\n",
    "\n",
    "def normalize_title(title):\n",
    "    title = re.sub(\"\\s+\", \" \", title).capitalize().strip().replace(\".\", \"\")\n",
    "    title = re.sub(\"\\xa0\", \" \", title)\n",
    "    return re.sub(\"\\n{1,}\", \" \", title)\n",
    "\n",
    "df_pos[\"title_spa\"] = df_pos[\"title_spa\"].apply(normalize_title)\n",
    "df_repo[\"title_spa\"] = df_repo[\"title_spa\"].apply(normalize_title)\n",
    "df_repo[\"journal_name\"] = df_repo[\"journal_name\"].apply(lambda name: name.capitalize().strip())\n",
    "\n",
    "repo_titles = df_repo[\"title_spa\"]\n",
    "pos_titles = df_pos[\"title_spa\"]\n",
    "\n",
    "print(len(df_repo), len(df_pos))"
   ]
  },
  {
   "cell_type": "markdown",
   "id": "ccaede3b",
   "metadata": {},
   "source": [
    "# similarity between titles"
   ]
  },
  {
   "cell_type": "code",
   "execution_count": null,
   "id": "cda48c21",
   "metadata": {
    "scrolled": true
   },
   "outputs": [],
   "source": [
    "# find similarity between titles from df_repo and df_pos\n",
    "\n",
    "# each item in ratios is one title from repo mapped to similarity of all titles from the positives\n",
    "ratios = repo_titles.map(lambda title_repo: pos_titles.map(lambda title_pos: ratio(title_pos, title_repo)))\n",
    "# ratios[1:2:4]\n",
    "\n",
    "# checking ratios\n",
    "similarity = ratios.map(lambda ratio: ratio > 0.82)\n",
    "\n",
    "# reduce the pos boolean to one by checking if _any_ of them is true -> a match between repo title and pos title\n",
    "matches = similarity.map(lambda ratios: ratios.any()) #if any is TRUE\n",
    "\n",
    "print(len(similarity), len(similarity.iloc[0]))\n",
    "print(len(matches))\n",
    "print(len(df_repo), len(df_pos))"
   ]
  },
  {
   "cell_type": "code",
   "execution_count": null,
   "id": "353b4d25",
   "metadata": {},
   "outputs": [],
   "source": [
    "# checking if all positive titles are in matches\n",
    "\n",
    "pos_matches = similarity.iloc[0]\n",
    "\n",
    "for row in similarity[1:]:\n",
    "    pos_matches += row\n",
    "\n",
    "print(len(df_pos[~pos_matches]))\n",
    "df_pos[~pos_matches]\n",
    "\n",
    "# please read\n",
    "# after inspection:\n",
    "# indeces 12,17,45,48,61,66 are documents that are also available in English\n",
    "# indeces 21,66 are not available online\n",
    "# index 23 is a thesis\n",
    "# thus can't be included"
   ]
  },
  {
   "cell_type": "markdown",
   "id": "b7f69b42",
   "metadata": {},
   "source": [
    "# merge data"
   ]
  },
  {
   "cell_type": "code",
   "execution_count": null,
   "id": "0395d49c",
   "metadata": {},
   "outputs": [],
   "source": [
    "# combine positives and repo dfs, drop duplicates, label positives and negatives\n",
    "\n",
    "df_match = df_repo[matches][[\"title_spa\",\"abstract_spa\",\"main_text_spa\",\"journal_name\"]]\n",
    "df_match['label'] = \"1\"\n",
    "\n",
    "df_repo = df_repo[[\"title_spa\",\"abstract_spa\",\"main_text_spa\",\"journal_name\"]]\n",
    "df_repo['label'] = \"\"\n",
    "\n",
    "df_combined = pd.concat([df_match, df_repo])\n",
    "df_combined = df_combined.drop_duplicates(subset=[\"title_spa\"], keep=\"first\")\n",
    "df_combined['label'] = df_combined.label.replace('','0', regex = True)\n",
    "df_combined['abstract_spa'] = df_combined['abstract_spa'].str.replace(r'Resumen', '', regex=True)\n",
    "\n",
    "print(len(df_combined[df_combined['label'] == \"positive\"]))\n",
    "print(len(df_combined[df_combined['label'] == \"negative\"]))\n",
    "print(len(df_combined))\n",
    "\n",
    "df_combined.to_csv('../data/pos_neg.csv', encoding='utf-8')"
   ]
  }
 ],
 "metadata": {
  "celltoolbar": "Raw Cell Format",
  "kernelspec": {
   "display_name": "venv",
   "language": "python",
   "name": "venv"
  },
  "language_info": {
   "codemirror_mode": {
    "name": "ipython",
    "version": 3
   },
   "file_extension": ".py",
   "mimetype": "text/x-python",
   "name": "python",
   "nbconvert_exporter": "python",
   "pygments_lexer": "ipython3",
   "version": "3.11.3"
  }
 },
 "nbformat": 4,
 "nbformat_minor": 5
}
